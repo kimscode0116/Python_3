{
 "cells": [
  {
   "cell_type": "code",
   "execution_count": 10,
   "metadata": {},
   "outputs": [
    {
     "name": "stdout",
     "output_type": "stream",
     "text": [
      "1  2  3  4  5  6  7  8  9  10  \n",
      "1  2  2  5  7  \n",
      "2  4  5  \n",
      "2  4  6  8  10  \n",
      "1  3  5  7  9  \n"
     ]
    }
   ],
   "source": [
    "# file 변수에 문자열을 읽음\n",
    "with open('inputTest2.txt', 'r') as file:\n",
    "    # 문자열이 들어올 횟수를 T변수에 담음\n",
    "    T = file.readline()\n",
    "     \n",
    "    for i in range(0,int(T)):\n",
    "        # 문자열을 띄어쓰기로 스플릿해서 배열에 한번에 받아옴 \n",
    "        arr = file.readline().rstrip('\\n').split(\" \")\n",
    "        # 정렬을 위해 int로 형변환\n",
    "        arr = list(map(int,arr))\n",
    "        arr.sort()\n",
    "        for j in range(0,len(arr)):\n",
    "            print(arr[j],\" \", end='')\n",
    "        print(end='\\n')    "
   ]
  }
 ],
 "metadata": {
  "kernelspec": {
   "display_name": "Python 3",
   "language": "python",
   "name": "python3"
  },
  "language_info": {
   "codemirror_mode": {
    "name": "ipython",
    "version": 3
   },
   "file_extension": ".py",
   "mimetype": "text/x-python",
   "name": "python",
   "nbconvert_exporter": "python",
   "pygments_lexer": "ipython3",
   "version": "3.8.5"
  }
 },
 "nbformat": 4,
 "nbformat_minor": 4
}
