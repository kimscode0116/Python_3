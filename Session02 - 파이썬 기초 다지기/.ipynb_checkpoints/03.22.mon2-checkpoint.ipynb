{
 "cells": [
  {
   "cell_type": "markdown",
   "metadata": {},
   "source": [
    "## 미션1. ~ 모든 데이터에 \"LEDTV_\"를 붙여라"
   ]
  },
  {
   "cell_type": "code",
   "execution_count": 25,
   "metadata": {},
   "outputs": [],
   "source": [
    "import pandas as pd"
   ]
  },
  {
   "cell_type": "code",
   "execution_count": 58,
   "metadata": {},
   "outputs": [],
   "source": [
    "targetList = [\"UN001\",\"UN002\",\"UN003\", \"UN0004\"]\n",
    "preFix = \"LEDTV_\""
   ]
  },
  {
   "cell_type": "markdown",
   "metadata": {},
   "source": [
    "targetList"
   ]
  },
  {
   "cell_type": "code",
   "execution_count": null,
   "metadata": {},
   "outputs": [],
   "source": [
    "\n",
    "## 만약 반복문을 사용안했다면 이렇게 돌려야됨\n",
    "targetList[0] = preFix + targetList[0]\n",
    "targetList[1] = preFix + targetList[1]\n",
    "targetList[2] = preFix + targetList[2]\n",
    "targetList[3] = preFix + targetList[3]\n"
   ]
  },
  {
   "cell_type": "markdown",
   "metadata": {},
   "source": [
    "## * for문을 사용해서"
   ]
  },
  {
   "cell_type": "code",
   "execution_count": 47,
   "metadata": {},
   "outputs": [],
   "source": [
    "targetList = [\"UN001\",\"UN002\",\"UN003\", \"UN0004\"]\n",
    "preFix = \"LEDTV_\"\n",
    "\n",
    "## tergetList의 length로 미리 정의를 해두면, 바뀌는 range 범위에 length가 자동으로 들어감\n",
    "targetListlen = len(targetList)\n",
    "\n",
    "list(range(0,4))\n",
    "\n",
    "## i를 0부터 4까지 1씩 증가를 시킨다\n",
    "## for 문의 헤더가 끝나는 지점은 \" : \"를 써줘야 한다.\n",
    "## 구문은 tab+들여쓰기로 컴푸터가 인식하게 해준다.\n",
    "for i in range(0,targetListlen,1): ## for문의 헤더header \n",
    "    targetList[i] = preFix + targetList[i]"
   ]
  },
  {
   "cell_type": "code",
   "execution_count": 61,
   "metadata": {},
   "outputs": [
    {
     "data": {
      "text/plain": [
       "['LEDTV_UN001', 'LEDTV_UN002', 'LEDTV_UN003', 'LEDTV_UN0004']"
      ]
     },
     "execution_count": 61,
     "metadata": {},
     "output_type": "execute_result"
    }
   ],
   "source": [
    "targetList"
   ]
  },
  {
   "cell_type": "markdown",
   "metadata": {},
   "source": [
    "## * while을 사용해서 "
   ]
  },
  {
   "cell_type": "code",
   "execution_count": 28,
   "metadata": {},
   "outputs": [
    {
     "data": {
      "text/plain": [
       "['LEDTV_UN001', 'LEDTV_UN002', 'LEDTV_UN003', 'LEDTV_UN0004']"
      ]
     },
     "execution_count": 28,
     "metadata": {},
     "output_type": "execute_result"
    }
   ],
   "source": [
    "targetList = [\"UN001\",\"UN002\",\"UN003\", \"UN0004\"]\n",
    "preFix = \"LEDTV_\"\n",
    "\n",
    "i=0\n",
    "\n",
    "#while문의 헤더의 종결점은 \":\"을 써줘야 한다.\n",
    "# 구문은 탭 들여쓰기를 해야한다.\n",
    "## while문은 반복문 마지막에 자동증가 안해준다.\n",
    "while(i<4):\n",
    "    targetList[i] = preFix + targetList[i]\n",
    "    i = i + 1\n",
    "\n",
    "targetList"
   ]
  },
  {
   "cell_type": "code",
   "execution_count": 14,
   "metadata": {},
   "outputs": [],
   "source": [
    "##구하고자 하는 정답\n",
    "tvList2 = [ 'UN40EN001', 'UN40EN002','UN40EN003', 'UN40EN004']"
   ]
  },
  {
   "cell_type": "code",
   "execution_count": 27,
   "metadata": {},
   "outputs": [
    {
     "name": "stdout",
     "output_type": "stream",
     "text": [
      "['UN40EN001', 'UN40EN002', 'UN40EN003', 'UN40EN004']\n"
     ]
    }
   ],
   "source": [
    "## tvList와 preFix를 정의한다.\n",
    "tvList2 = ['UN40EN001', 'UN40EN002','UN40EN003', 'UN40EN004']\n",
    "\n",
    "## tvList의 length를 tergetListLen으로 정의한다.\n",
    "targetListLen = len(tvList2)\n",
    "\n",
    "## for문을 이용하여 tergetListLen 까지의 반복한다.\n",
    "for i in range(0,targetListLen,1):\n",
    "    tvList2[i] = tvList[i]\n",
    "\n",
    "## tvList를 출력한다.\n",
    "print(tvList)"
   ]
  },
  {
   "cell_type": "markdown",
   "metadata": {},
   "source": [
    "## if문 배우기"
   ]
  },
  {
   "cell_type": "code",
   "execution_count": null,
   "metadata": {},
   "outputs": [],
   "source": [
    "testModel = \"UN40EN001\"\n",
    "preFix = \"LEDTV_\"\n",
    "\n",
    "## 조건 만들기 (if문 아래 조건은 무조건 들여쓰기)\n",
    "if testModel.count(preFix) == 0:\n",
    "    testModel = preFix + testModel\n",
    "else:\n",
    "    pass"
   ]
  },
  {
   "cell_type": "code",
   "execution_count": null,
   "metadata": {},
   "outputs": [],
   "source": [
    "testModel"
   ]
  },
  {
   "cell_type": "code",
   "execution_count": 35,
   "metadata": {},
   "outputs": [],
   "source": [
    "## step1 : 리스트에 있는 데이터를 하나씩 확인하자\n",
    "## step2 : 리스트 아이템 별 prefix 개수를 확인하자\n",
    "## step3 : prefix >= 2 \"LEDTV_LEDTV_UN..\" 이경우 전부 공백으로 REPLACE 해서 대체시키자.\n",
    "##         Prefix == 1 : pass\n",
    "##         prefix < 1 : prefix 붙여라"
   ]
  },
  {
   "cell_type": "code",
   "execution_count": 48,
   "metadata": {},
   "outputs": [
    {
     "data": {
      "text/plain": [
       "['UN40EN001', 'EDTV_UN40EN002', 'EDTV_', 'EDTV_UN40EN003ledtv_UN40EN004']"
      ]
     },
     "execution_count": 48,
     "metadata": {},
     "output_type": "execute_result"
    }
   ],
   "source": [
    "tvList2 = [ 'UN40EN001', 'LEDTV_UN40EN002','LEDTV_LEDTV_UN40EN003', 'ledtv_UN40EN004']\n",
    "num = ''.join(tvList2)\n",
    "num.upper()\n",
    "\n",
    "splitter = \"L\"\n",
    "new_tvList = num.split(splitter)\n",
    "new_tvList"
   ]
  },
  {
   "cell_type": "code",
   "execution_count": 64,
   "metadata": {},
   "outputs": [],
   "source": [
    "tvList2 = [ 'UN40EN001', 'LEDTV_UN40EN002','LEDTV_LEDTV_UN40EN003', 'ledtv_UN40EN004']\n",
    "preFix = 'LEDTV_'"
   ]
  },
  {
   "cell_type": "code",
   "execution_count": 67,
   "metadata": {},
   "outputs": [
    {
     "ename": "AttributeError",
     "evalue": "'str' object has no attribute 'remove'",
     "output_type": "error",
     "traceback": [
      "\u001b[1;31m---------------------------------------------------------------------------\u001b[0m",
      "\u001b[1;31mAttributeError\u001b[0m                            Traceback (most recent call last)",
      "\u001b[1;32m<ipython-input-67-e997191c68df>\u001b[0m in \u001b[0;36m<module>\u001b[1;34m\u001b[0m\n\u001b[0;32m      5\u001b[0m     \u001b[0mtvList2\u001b[0m\u001b[1;33m[\u001b[0m\u001b[0mi\u001b[0m\u001b[1;33m]\u001b[0m \u001b[1;33m=\u001b[0m \u001b[0mtvList2\u001b[0m\u001b[1;33m[\u001b[0m\u001b[0mi\u001b[0m\u001b[1;33m]\u001b[0m\u001b[1;33m.\u001b[0m\u001b[0mupper\u001b[0m\u001b[1;33m(\u001b[0m\u001b[1;33m)\u001b[0m\u001b[1;33m\u001b[0m\u001b[1;33m\u001b[0m\u001b[0m\n\u001b[0;32m      6\u001b[0m     \u001b[1;32mif\u001b[0m \u001b[0mtvList2\u001b[0m\u001b[1;33m[\u001b[0m\u001b[0mi\u001b[0m\u001b[1;33m]\u001b[0m\u001b[1;33m.\u001b[0m\u001b[0mcount\u001b[0m\u001b[1;33m(\u001b[0m\u001b[0mpreFix\u001b[0m\u001b[1;33m)\u001b[0m \u001b[1;33m>=\u001b[0m \u001b[1;36m2\u001b[0m\u001b[1;33m:\u001b[0m\u001b[1;33m\u001b[0m\u001b[1;33m\u001b[0m\u001b[0m\n\u001b[1;32m----> 7\u001b[1;33m         \u001b[0mtvList2\u001b[0m\u001b[1;33m[\u001b[0m\u001b[0mi\u001b[0m\u001b[1;33m]\u001b[0m\u001b[1;33m.\u001b[0m\u001b[0mremove\u001b[0m\u001b[1;33m(\u001b[0m\u001b[0mpreFix\u001b[0m\u001b[1;33m)\u001b[0m\u001b[1;33m\u001b[0m\u001b[1;33m\u001b[0m\u001b[0m\n\u001b[0m\u001b[0;32m      8\u001b[0m         \u001b[0mtvList2\u001b[0m\u001b[1;33m[\u001b[0m\u001b[0mi\u001b[0m\u001b[1;33m]\u001b[0m \u001b[1;33m=\u001b[0m \u001b[0mpreFix\u001b[0m \u001b[1;33m+\u001b[0m \u001b[0mtvList2\u001b[0m\u001b[1;33m[\u001b[0m\u001b[0mi\u001b[0m\u001b[1;33m]\u001b[0m\u001b[1;33m\u001b[0m\u001b[1;33m\u001b[0m\u001b[0m\n\u001b[0;32m      9\u001b[0m     \u001b[1;32melif\u001b[0m \u001b[0mtvList2\u001b[0m\u001b[1;33m[\u001b[0m\u001b[0mi\u001b[0m\u001b[1;33m]\u001b[0m\u001b[1;33m.\u001b[0m\u001b[0mcount\u001b[0m\u001b[1;33m(\u001b[0m\u001b[0mpreFix\u001b[0m\u001b[1;33m)\u001b[0m \u001b[1;33m==\u001b[0m \u001b[1;36m1\u001b[0m\u001b[1;33m:\u001b[0m\u001b[1;33m\u001b[0m\u001b[1;33m\u001b[0m\u001b[0m\n",
      "\u001b[1;31mAttributeError\u001b[0m: 'str' object has no attribute 'remove'"
     ]
    }
   ],
   "source": [
    "## 리스트의 길이를 구한다\n",
    "tvList2Len = len(tvList2)\n",
    "\n",
    "for i in range(0,tvList2Len,1):\n",
    "    tvList2[i] = tvList2[i].upper()\n",
    "    if tvList2[i].count(preFix) >= 2:\n",
    "        tvList2[i].replace(preFix,\"\")\n",
    "        tvList2[i] = preFix + tvList2[i]\n",
    "    elif tvList2[i].count(preFix) == 1:\n",
    "        pass\n",
    "    else: \n",
    "        tvList2[i]=preFix + tvList2[i]"
   ]
  },
  {
   "cell_type": "code",
   "execution_count": 66,
   "metadata": {},
   "outputs": [
    {
     "data": {
      "text/plain": [
       "['LEDTV_UN40EN001',\n",
       " 'LEDTV_UN40EN002',\n",
       " 'LEDTV_LEDTV_LEDTV_UN40EN003',\n",
       " 'LEDTV_UN40EN004']"
      ]
     },
     "execution_count": 66,
     "metadata": {},
     "output_type": "execute_result"
    }
   ],
   "source": [
    "tvList2"
   ]
  },
  {
   "cell_type": "code",
   "execution_count": null,
   "metadata": {},
   "outputs": [],
   "source": []
  },
  {
   "cell_type": "code",
   "execution_count": null,
   "metadata": {},
   "outputs": [],
   "source": []
  },
  {
   "cell_type": "code",
   "execution_count": 37,
   "metadata": {},
   "outputs": [],
   "source": [
    "## SCORE 변수를 80으로 선언 후90점이상 A, 80~90점 B, 이외 C 점수로 GRADE변수에 할당하는 프로그램을 구현하세요"
   ]
  },
  {
   "cell_type": "code",
   "execution_count": 8,
   "metadata": {},
   "outputs": [],
   "source": [
    "import pandas as pd"
   ]
  },
  {
   "cell_type": "code",
   "execution_count": 9,
   "metadata": {},
   "outputs": [
    {
     "name": "stdout",
     "output_type": "stream",
     "text": [
      "B\n"
     ]
    }
   ],
   "source": [
    "## SCORE 변수 선언\n",
    "score=80\n",
    "\n",
    "## IF 조건문 작성\n",
    "if score >= 90:\n",
    "    grade=\"A\"\n",
    "elif score >= 80:\n",
    "    grade=\"B\"\n",
    "else :\n",
    "    grade=\"C\"\n",
    "\n",
    "## GRADE 출력\n",
    "print(grade)"
   ]
  },
  {
   "cell_type": "code",
   "execution_count": 10,
   "metadata": {},
   "outputs": [
    {
     "ename": "SyntaxError",
     "evalue": "EOL while scanning string literal (<ipython-input-10-7f9c628f06df>, line 1)",
     "output_type": "error",
     "traceback": [
      "\u001b[1;36m  File \u001b[1;32m\"<ipython-input-10-7f9c628f06df>\"\u001b[1;36m, line \u001b[1;32m1\u001b[0m\n\u001b[1;33m    tvList2 = [ 'UN40EN001', 'LEDTV_UN40EN002', 'LEDTV_LEDTV_UN40EN003’, ‘ledtv_UN40EN004’]\u001b[0m\n\u001b[1;37m                                                                                           ^\u001b[0m\n\u001b[1;31mSyntaxError\u001b[0m\u001b[1;31m:\u001b[0m EOL while scanning string literal\n"
     ]
    }
   ],
   "source": [
    "tvList2 = [ 'UN40EN001', 'LEDTV_UN40EN002', 'LEDTV_LEDTV_UN40EN003’, ‘ledtv_UN40EN004’]\n",
    "리스트에서 LEDTV_가 한 개만 앞에 붙도록 하세요\n",
    "(* 대소문자 구분없이 전부 처리!)\n",
    "* 과제~ until 3/23"
   ]
  },
  {
   "cell_type": "code",
   "execution_count": null,
   "metadata": {},
   "outputs": [],
   "source": []
  }
 ],
 "metadata": {
  "kernelspec": {
   "display_name": "Python 3",
   "language": "python",
   "name": "python3"
  },
  "language_info": {
   "codemirror_mode": {
    "name": "ipython",
    "version": 3
   },
   "file_extension": ".py",
   "mimetype": "text/x-python",
   "name": "python",
   "nbconvert_exporter": "python",
   "pygments_lexer": "ipython3",
   "version": "3.8.3"
  }
 },
 "nbformat": 4,
 "nbformat_minor": 4
}
