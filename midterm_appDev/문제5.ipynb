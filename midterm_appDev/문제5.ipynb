{
 "cells": [
  {
   "cell_type": "code",
   "execution_count": 14,
   "metadata": {},
   "outputs": [
    {
     "name": "stdin",
     "output_type": "stream",
     "text": [
      " 50\n"
     ]
    },
    {
     "name": "stdout",
     "output_type": "stream",
     "text": [
      "0   2\n"
     ]
    }
   ],
   "source": [
    "# 사용자로 부터 학생수를 입력받음\n",
    "userInput = input(\"\")\n",
    "number = int(userInput)\n",
    "\n",
    "# 버스의 가격을 맵핑함\n",
    "bus45 = 45\n",
    "bus25 = 25\n",
    "\n",
    "# 결과값을 출력할 변수를 생성\n",
    "res45 = 0\n",
    "res25 = 0\n",
    "\n",
    "# 학생 수가 모두 0이하가 될 때 까지 반복문을 돌림\n",
    "while(True):\n",
    "    \n",
    "    # 학생수가 25로 나누어 떨어질 때\n",
    "    if(number % bus25 == 0):\n",
    "        print(res45 , \" \" ,int(number/bus25))\n",
    "        break\n",
    "\n",
    "    # 학생 수가 45보다 클 때    \n",
    "    if(number >= bus45):\n",
    "        number -= bus45\n",
    "        res45 += 1\n",
    "        \n",
    "        # 학생수가 25로 나누어 떨어질 때\n",
    "        if(number % bus25 == 0):\n",
    "            print(res45 , \" \" ,int(number/bus25))\n",
    "            break\n",
    "            \n",
    "    # 학생 수가 45보다 작으면서 25로 나누어 떨어지지 않을 떄\n",
    "    else:\n",
    "        # 학생수가 0 ~ 24 사이의 값일 때\n",
    "        if(number < bus25):\n",
    "            res25 += 1\n",
    "            print(res45 , \" \" ,res25)\n",
    "            break\n",
    "        \n",
    "        # 학생 수가 26 ~ 44 사이의 값일 때\n",
    "        elif(number > bus25):\n",
    "            res45 += 1\n",
    "            print(res45 , \" \" ,res25)\n",
    "            break"
   ]
  }
 ],
 "metadata": {
  "kernelspec": {
   "display_name": "Python 3",
   "language": "python",
   "name": "python3"
  },
  "language_info": {
   "codemirror_mode": {
    "name": "ipython",
    "version": 3
   },
   "file_extension": ".py",
   "mimetype": "text/x-python",
   "name": "python",
   "nbconvert_exporter": "python",
   "pygments_lexer": "ipython3",
   "version": "3.8.5"
  }
 },
 "nbformat": 4,
 "nbformat_minor": 4
}
