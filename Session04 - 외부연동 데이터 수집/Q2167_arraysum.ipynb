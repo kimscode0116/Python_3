{
 "cells": [
  {
   "cell_type": "code",
   "execution_count": 6,
   "metadata": {},
   "outputs": [
    {
     "name": "stdout",
     "output_type": "stream",
     "text": [
      "63\n",
      "2\n",
      "36\n"
     ]
    }
   ],
   "source": [
    "import sys\n",
    "sys.stdin = open(\"inputAS.txt\",\"r\")\n",
    "\n",
    "# n, m = map(int, input().split())\n",
    "n, m = map(int, sys.stdin.readline().split())\n",
    "\n",
    "a = []\n",
    "dp = [[0] * (m + 1) for _ in range(n + 1)]\n",
    "for _ in range(n):\n",
    "#     a.append(list(map(int, input().split())))\n",
    "    a.append(list(map(int, sys.stdin.readline().split())))\n",
    "for i in range(1, n + 1):\n",
    "    for j in range(1, m + 1):\n",
    "        dp[i][j] = a[i - 1][j - 1] + dp[i][j - 1] + dp[i - 1][j] - dp[i - 1][j - 1]\n",
    "# k = int(input())\n",
    "k = int(sys.stdin.readline())\n",
    "for _ in range(k):\n",
    "#     i, j, x, y = map(int, input().split())\n",
    "    i, j, x, y = map(int, sys.stdin.readline().split())\n",
    "    print(dp[x][y] - dp[x][j - 1] - dp[i - 1][y] + dp[i - 1][j - 1])"
   ]
  },
  {
   "cell_type": "code",
   "execution_count": null,
   "metadata": {},
   "outputs": [],
   "source": []
  },
  {
   "cell_type": "code",
   "execution_count": null,
   "metadata": {},
   "outputs": [],
   "source": []
  }
 ],
 "metadata": {
  "kernelspec": {
   "display_name": "Python 3",
   "language": "python",
   "name": "python3"
  },
  "language_info": {
   "codemirror_mode": {
    "name": "ipython",
    "version": 3
   },
   "file_extension": ".py",
   "mimetype": "text/x-python",
   "name": "python",
   "nbconvert_exporter": "python",
   "pygments_lexer": "ipython3",
   "version": "3.8.5"
  }
 },
 "nbformat": 4,
 "nbformat_minor": 4
}
