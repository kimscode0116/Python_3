{
 "cells": [
  {
   "cell_type": "code",
   "execution_count": 4,
   "metadata": {},
   "outputs": [
    {
     "name": "stdout",
     "output_type": "stream",
     "text": [
      "2\n",
      "3\n",
      "12  14\n",
      "16  14\n",
      "16  36\n"
     ]
    }
   ],
   "source": [
    "#import numpy as np\n",
    "\n",
    "# file 변수에 문자열을 읽음\n",
    "with open('inputArraySum.txt', 'r') as file:\n",
    "    # 행과 열을 받아옴\n",
    "    N, M = file.readline().split(\" \")\n",
    "    N = int(N)\n",
    "    M = int(M)\n",
    "    print(N)\n",
    "    print(M)\n",
    "    \n",
    "    # 0으로 이루어진 3행 4열 배열 생성\n",
    "    arr = [[ 0 for _ in range(M+1)] for _ in range(N+1)]\n",
    "    \n",
    "#    arr = np.zeros((N+1,M+1))\n",
    "#    print(arr)\n",
    "\n",
    "    # 배열에 값을 넣어줌\n",
    "    for i in range(1,N+1):\n",
    "        a = file.readline().rstrip('\\n').split(\" \")\n",
    "        for j in range(1,M+1):\n",
    "            arr[i][j] = a[j-1]\n",
    "#    print(arr)\n",
    "    \n",
    "   \n",
    "    # 반복문을 돌릴 횟수를 받아옴\n",
    "    T = file.readline()\n",
    "    T = int(T)\n",
    "    \n",
    "    for i in range(0,T):\n",
    "        \n",
    "        # 행과 열의 합을 구할 변수를 초기화 함\n",
    "        rowSum = 0\n",
    "        colSum = 0\n",
    "        # 행과 열을 받아옴\n",
    "        X, Y= file.readline().split(\" \")\n",
    "        X = int(X)\n",
    "        Y = int(Y)\n",
    "        # 행의 합\n",
    "        for j in range(0,len(arr)):\n",
    "            rowSum += int(arr[j][Y])\n",
    "        print(rowSum,\" \" ,end='')\n",
    "\n",
    "        # 열의 합\n",
    "        for j in range(0,len(arr[X])):\n",
    "            colSum += int(arr[X][j])\n",
    "        print(colSum,)"
   ]
  }
 ],
 "metadata": {
  "kernelspec": {
   "display_name": "Python 3",
   "language": "python",
   "name": "python3"
  },
  "language_info": {
   "codemirror_mode": {
    "name": "ipython",
    "version": 3
   },
   "file_extension": ".py",
   "mimetype": "text/x-python",
   "name": "python",
   "nbconvert_exporter": "python",
   "pygments_lexer": "ipython3",
   "version": "3.8.5"
  }
 },
 "nbformat": 4,
 "nbformat_minor": 4
}
