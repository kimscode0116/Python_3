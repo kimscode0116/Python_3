{
 "cells": [
  {
   "cell_type": "code",
   "execution_count": 15,
   "metadata": {},
   "outputs": [
    {
     "data": {
      "text/plain": [
       "'C:\\\\Users\\\\SMART-14\\\\practice'"
      ]
     },
     "execution_count": 15,
     "metadata": {},
     "output_type": "execute_result"
    }
   ],
   "source": [
    "pwd"
   ]
  },
  {
   "cell_type": "code",
   "execution_count": 16,
   "metadata": {},
   "outputs": [],
   "source": [
    "import pandas as pd"
   ]
  },
  {
   "cell_type": "code",
   "execution_count": 6,
   "metadata": {},
   "outputs": [
    {
     "name": "stdout",
     "output_type": "stream",
     "text": [
      "22\n"
     ]
    }
   ],
   "source": [
    "#현재 시간정보를 가져온다.\n",
    "currentTime = 2\n",
    "currentMinutes = 25\n",
    "print (a+b)"
   ]
  },
  {
   "cell_type": "code",
   "execution_count": 7,
   "metadata": {},
   "outputs": [],
   "source": [
    "#현재 시간 및 분 정보를 더한다.\n",
    "sumTimeMinutes = currentTime + currentMinutes"
   ]
  },
  {
   "cell_type": "code",
   "execution_count": null,
   "metadata": {},
   "outputs": [],
   "source": [
    "#결과값을 출력한다.\n",
    "print(sumTimeMinutes)"
   ]
  },
  {
   "cell_type": "code",
   "execution_count": null,
   "metadata": {},
   "outputs": [],
   "source": [
    "# 아래 코드의 문제점은?\n",
    "# 문제점 1 : 나만 볼 수 있다\n",
    "# 문제점 2 : 주석이 없다.\n",
    "# 문제점 3 : 변수명이 형편없다.\n",
    "# 문제점 4 : 실시간성을 반영하지 않는다."
   ]
  },
  {
   "cell_type": "code",
   "execution_count": null,
   "metadata": {},
   "outputs": [],
   "source": [
    "a = 2\n",
    "b = 3\n",
    "print(a+b)"
   ]
  },
  {
   "cell_type": "code",
   "execution_count": 9,
   "metadata": {},
   "outputs": [],
   "source": [
    "#날짜계산 라이브러리 (datetime) 선언\n",
    "import datetime as dt"
   ]
  },
  {
   "cell_type": "code",
   "execution_count": 11,
   "metadata": {},
   "outputs": [],
   "source": [
    "currentDate = dt.datetime.now()"
   ]
  },
  {
   "cell_type": "code",
   "execution_count": 14,
   "metadata": {},
   "outputs": [],
   "source": [
    "#현재 시간 및 분 정보 저장\n",
    "currentMin = currentDate.minute\n",
    "currentHour = currentDate.hour"
   ]
  },
  {
   "cell_type": "code",
   "execution_count": 19,
   "metadata": {},
   "outputs": [
    {
     "name": "stdout",
     "output_type": "stream",
     "text": [
      "54\n"
     ]
    }
   ],
   "source": [
    "#현재 시간 및 분 정보 합 계산 및 출력\n",
    "sum_time = currentMin + currentHour\n",
    "print(sum_time)"
   ]
  },
  {
   "cell_type": "code",
   "execution_count": 20,
   "metadata": {},
   "outputs": [
    {
     "name": "stdout",
     "output_type": "stream",
     "text": [
      "현재시간은 : 40 \n",
      "현재 분은 : 14\n"
     ]
    }
   ],
   "source": [
    "print( \"현재시간은 : {} \\n현재 분은 : {}\".\\\n",
    "        format(currentMin, currentHour))"
   ]
  },
  {
   "cell_type": "code",
   "execution_count": 22,
   "metadata": {},
   "outputs": [
    {
     "data": {
      "text/plain": [
       "('smart', 'fintech')"
      ]
     },
     "execution_count": 22,
     "metadata": {},
     "output_type": "execute_result"
    }
   ],
   "source": [
    "#쌍따옴표, 따옴표, 트리플따옴표로 문자임을 아렬준다\n",
    "\"smart\", \"fintech\""
   ]
  },
  {
   "cell_type": "code",
   "execution_count": 28,
   "metadata": {},
   "outputs": [],
   "source": [
    "firstLetter = \"\"\"smart \"fintech\" lecture\"\"\"\n",
    "secondLetter = \"fintech\""
   ]
  },
  {
   "cell_type": "code",
   "execution_count": 29,
   "metadata": {},
   "outputs": [
    {
     "data": {
      "text/plain": [
       "'smart \"fintech\" lecturefintech'"
      ]
     },
     "execution_count": 29,
     "metadata": {},
     "output_type": "execute_result"
    }
   ],
   "source": [
    "firstLetter + secondLetter"
   ]
  },
  {
   "cell_type": "code",
   "execution_count": 30,
   "metadata": {},
   "outputs": [],
   "source": [
    "inputval1 = 1\n",
    "inputval2 = \"1\""
   ]
  },
  {
   "cell_type": "code",
   "execution_count": 34,
   "metadata": {},
   "outputs": [
    {
     "data": {
      "text/plain": [
       "int"
      ]
     },
     "execution_count": 34,
     "metadata": {},
     "output_type": "execute_result"
    }
   ],
   "source": [
    "type(inputval1)"
   ]
  },
  {
   "cell_type": "code",
   "execution_count": 41,
   "metadata": {},
   "outputs": [],
   "source": [
    "# 연, 주차 정보 길이 설정\n",
    "yearLen = 4\n",
    "weekLen = 2\n",
    "\n",
    "# 입력데이터\n",
    "inValue = \"202103\""
   ]
  },
  {
   "cell_type": "code",
   "execution_count": 42,
   "metadata": {},
   "outputs": [
    {
     "data": {
      "text/plain": [
       "'2021'"
      ]
     },
     "execution_count": 42,
     "metadata": {},
     "output_type": "execute_result"
    }
   ],
   "source": [
    "inValue[0:yearLen]"
   ]
  },
  {
   "cell_type": "code",
   "execution_count": 45,
   "metadata": {},
   "outputs": [
    {
     "data": {
      "text/plain": [
       "6"
      ]
     },
     "execution_count": 45,
     "metadata": {},
     "output_type": "execute_result"
    }
   ],
   "source": [
    "len(inValue)"
   ]
  },
  {
   "cell_type": "code",
   "execution_count": 47,
   "metadata": {},
   "outputs": [],
   "source": [
    "yearInfo = inValue[:yearLen]"
   ]
  },
  {
   "cell_type": "code",
   "execution_count": 48,
   "metadata": {},
   "outputs": [
    {
     "data": {
      "text/plain": [
       "'03'"
      ]
     },
     "execution_count": 48,
     "metadata": {},
     "output_type": "execute_result"
    }
   ],
   "source": [
    "weekInfo = inValue[yearLen:]\n",
    "weekInfo"
   ]
  },
  {
   "cell_type": "code",
   "execution_count": 52,
   "metadata": {},
   "outputs": [
    {
     "name": "stdout",
     "output_type": "stream",
     "text": [
      "1\n"
     ]
    }
   ],
   "source": [
    "#문자열 개수세기 (count)\n",
    "yearweek = \"2017W28wwww\"\n",
    "print(yearweek.count(\"W\"))"
   ]
  },
  {
   "cell_type": "markdown",
   "metadata": {},
   "source": [
    "문자\n"
   ]
  },
  {
   "cell_type": "markdown",
   "metadata": {},
   "source": [
    "##문자"
   ]
  },
  {
   "cell_type": "code",
   "execution_count": 56,
   "metadata": {},
   "outputs": [
    {
     "name": "stdout",
     "output_type": "stream",
     "text": [
      "2\n"
     ]
    }
   ],
   "source": [
    "#문자열 위치확인 (index)\n",
    "yearweek = '21Ww03'\n",
    "print(yearweek.index('W'))"
   ]
  },
  {
   "cell_type": "code",
   "execution_count": 57,
   "metadata": {},
   "outputs": [
    {
     "name": "stdout",
     "output_type": "stream",
     "text": [
      "LED_TV\n",
      "led_tv\n"
     ]
    }
   ],
   "source": [
    "# 대소문자 구별함수 (upper/lower)\n",
    "letters = \"LeD_tv\"\n",
    "print(letters.upper())\n",
    "print(letters.lower())"
   ]
  },
  {
   "cell_type": "code",
   "execution_count": 59,
   "metadata": {},
   "outputs": [
    {
     "data": {
      "text/plain": [
       "True"
      ]
     },
     "execution_count": 59,
     "metadata": {},
     "output_type": "execute_result"
    }
   ],
   "source": [
    "userInput = \"haiteam\"\n",
    "dbValue = \"HAITEAM\"\n",
    "\n",
    "userInput.upper() == dbValue.upper()"
   ]
  },
  {
   "cell_type": "code",
   "execution_count": 61,
   "metadata": {},
   "outputs": [
    {
     "name": "stdout",
     "output_type": "stream",
     "text": [
      "2017_28\n"
     ]
    }
   ],
   "source": [
    "# 문자 치환 (replace)\n",
    "repLetters = \"2017W28\"\n",
    "print(repLetters.replace(\"W\",\"_\"))"
   ]
  },
  {
   "cell_type": "code",
   "execution_count": 63,
   "metadata": {},
   "outputs": [
    {
     "name": "stdout",
     "output_type": "stream",
     "text": [
      "['21', 'w03']\n"
     ]
    }
   ],
   "source": [
    "# 문자 분리 (split)\n",
    "yearweek_list = yearweek.split(\"W\")\n",
    "print(yearweek_list)"
   ]
  },
  {
   "cell_type": "code",
   "execution_count": 64,
   "metadata": {},
   "outputs": [],
   "source": [
    "a = \"haiteam             seoul\"\n",
    "b = \"team              busan\""
   ]
  },
  {
   "cell_type": "code",
   "execution_count": 68,
   "metadata": {},
   "outputs": [
    {
     "data": {
      "text/plain": [
       "'haiteam_seoul'"
      ]
     },
     "execution_count": 68,
     "metadata": {},
     "output_type": "execute_result"
    }
   ],
   "source": [
    "a.replace(\"  \", \"\").replace(\" \",\"_\")"
   ]
  },
  {
   "cell_type": "code",
   "execution_count": 70,
   "metadata": {},
   "outputs": [
    {
     "name": "stdout",
     "output_type": "stream",
     "text": [
      "<class 'int'>\n",
      "<class 'float'>\n",
      "<class 'str'>\n"
     ]
    }
   ],
   "source": [
    "# int(정수) , flot(실수)\n",
    "\n",
    "#문자 →수(정수)\n",
    "strValue = '1234'\n",
    "cvIntValue = int(strValue)\n",
    "print(type(cvIntValue)) \n",
    "\n",
    "#문자 → 수(실수)\n",
    "strValue = '1234'\n",
    "cvFloatValue = float(strValue)\n",
    "print(type(cvFloatValue)) \n",
    "\n",
    "#숫자 → 문자\n",
    "numberValue = 1234\n",
    "cvStrValue = str(numberValue)\n",
    "print(type(cvStrValue))\n"
   ]
  },
  {
   "cell_type": "code",
   "execution_count": 160,
   "metadata": {},
   "outputs": [
    {
     "name": "stdout",
     "output_type": "stream",
     "text": [
      "SEC 20180212 250\n"
     ]
    }
   ],
   "source": [
    "#전체문자열 생성\n",
    "infoValue = \"SEC 20180212 250\"  \n",
    "\n",
    "#항목정보-띄어쓰기를 기준으로 항목분리\n",
    "splitter = \" \" \n",
    "split_name = infoValue.split(splitter) \n",
    "stock_name = split_name[0]\n",
    "\n",
    "#일자\n",
    "date = infoValue[4:12] \n",
    "\n",
    "#분류번호\n",
    "value = infoValue[-3:]\n",
    "\n",
    "print(stock_name, date, value) #전체데이터 출력"
   ]
  },
  {
   "cell_type": "code",
   "execution_count": 161,
   "metadata": {},
   "outputs": [
    {
     "name": "stdout",
     "output_type": "stream",
     "text": [
      "SEC 201812 250\n"
     ]
    }
   ],
   "source": [
    " #전체문자열 생성\n",
    "strValue = \"Sec 2018W12 250\" ##데이터 분류 선행 (ex.띄어쓰기를 기준으로 분리하겠다)\n",
    "\n",
    "#항목정보(대문자표기)\n",
    "stock_name = strValue[:3].upper()\n",
    "\n",
    "#일자정보(문자열 중\"W\"삭제 후 데이터 생성)\n",
    "date = strValue[4:11] \n",
    "splitDate = \"W\"\n",
    "dateList = date.split(splitDate)\n",
    "strDate1 = dateList[0]\n",
    "strDate2 = dateList[1]\n",
    "finalDate = strDate1 + strDate2 \n",
    "\n",
    "#분류번호\n",
    "value = strValue[-3:]\n",
    "\n",
    "#전체데이터 출력\n",
    "print (stock_name, finalDate, value) "
   ]
  },
  {
   "cell_type": "code",
   "execution_count": null,
   "metadata": {},
   "outputs": [],
   "source": []
  },
  {
   "cell_type": "code",
   "execution_count": 96,
   "metadata": {},
   "outputs": [
    {
     "name": "stdout",
     "output_type": "stream",
     "text": [
      "SEC\n"
     ]
    }
   ],
   "source": [
    "stock_name = strValue[:3]\n",
    "upperletter = stock_name.upper()\n",
    "print(upperletter)"
   ]
  },
  {
   "cell_type": "code",
   "execution_count": 190,
   "metadata": {},
   "outputs": [
    {
     "name": "stdout",
     "output_type": "stream",
     "text": [
      "SEC 201812 250\n"
     ]
    }
   ],
   "source": [
    "## 샘플데이터\n",
    "targetValue = \"Sec 2018W12 250\" ##데이터 분류 선행 (ex.띄어쓰기를 기준으로 분리하겠다)\n",
    "\n",
    "#입력데이터를 대문자로 변환한다.\n",
    "targetValue = targetValue.upper()\n",
    "\n",
    "#date 컬럼내 삭제 문자열 (\"W\") 및 구분자를 선언한다.\n",
    "delchar = \"W\"\n",
    "delimeter = \" \"\n",
    "\n",
    "#stockName, date, value 값을 추출한다.\n",
    "delimeterIndex = targetValue.index(delimeter)\n",
    "\n",
    "stockName = targetValue[:delimeterIndex]\n",
    "\n",
    "leftedValue = targetValue[delimeterIndex+1:]\n",
    "delimeterIndex = leftedValue.index(delimeter)\n",
    "date = leftedValue[:delimeterIndex].replace(delchar,\"\")\n",
    "\n",
    "value = leftedValue[delimeterIndex+1:]\n",
    "value\n",
    "\n",
    "print(stockName, date, value)"
   ]
  },
  {
   "cell_type": "markdown",
   "metadata": {},
   "source": [
    "# 리 스 트"
   ]
  },
  {
   "cell_type": "code",
   "execution_count": 189,
   "metadata": {},
   "outputs": [],
   "source": [
    " emptyList = []"
   ]
  },
  {
   "cell_type": "code",
   "execution_count": 192,
   "metadata": {},
   "outputs": [],
   "source": [
    "priceList = [100,150,300,100]"
   ]
  },
  {
   "cell_type": "code",
   "execution_count": 193,
   "metadata": {},
   "outputs": [
    {
     "data": {
      "text/plain": [
       "100"
      ]
     },
     "execution_count": 193,
     "metadata": {},
     "output_type": "execute_result"
    }
   ],
   "source": [
    "priceList[0]"
   ]
  },
  {
   "cell_type": "markdown",
   "metadata": {},
   "source": [
    "# 복합리스트"
   ]
  },
  {
   "cell_type": "code",
   "execution_count": 197,
   "metadata": {},
   "outputs": [],
   "source": [
    "stockList = [[\"sec\",\"201801\",\"100\"],\n",
    "              [\"posco\",\"201801\",\"200\"]]"
   ]
  },
  {
   "cell_type": "code",
   "execution_count": 198,
   "metadata": {},
   "outputs": [
    {
     "data": {
      "text/plain": [
       "['sec', '201801', '100']"
      ]
     },
     "execution_count": 198,
     "metadata": {},
     "output_type": "execute_result"
    }
   ],
   "source": [
    "stockList[0]"
   ]
  },
  {
   "cell_type": "code",
   "execution_count": 203,
   "metadata": {},
   "outputs": [
    {
     "data": {
      "text/plain": [
       "'201801'"
      ]
     },
     "execution_count": 203,
     "metadata": {},
     "output_type": "execute_result"
    }
   ],
   "source": [
    "stockList[1][1]"
   ]
  },
  {
   "cell_type": "markdown",
   "metadata": {},
   "source": [
    "# 최소값/최대값"
   ]
  },
  {
   "cell_type": "code",
   "execution_count": 212,
   "metadata": {},
   "outputs": [],
   "source": [
    "priceList = [0,100,300,1000]"
   ]
  },
  {
   "cell_type": "code",
   "execution_count": 213,
   "metadata": {},
   "outputs": [
    {
     "name": "stdout",
     "output_type": "stream",
     "text": [
      "1000\n",
      "0\n",
      "1400\n",
      "4\n"
     ]
    }
   ],
   "source": [
    "print(max( priceList ))\n",
    "print(min( priceList ))\n",
    "print(sum( priceList ))\n",
    "print(len( priceList ))"
   ]
  },
  {
   "cell_type": "code",
   "execution_count": 215,
   "metadata": {},
   "outputs": [
    {
     "data": {
      "text/plain": [
       "350.0"
      ]
     },
     "execution_count": 215,
     "metadata": {},
     "output_type": "execute_result"
    }
   ],
   "source": [
    "sum(priceList) / len(priceList)"
   ]
  },
  {
   "cell_type": "markdown",
   "metadata": {},
   "source": [
    "# 업데이트"
   ]
  },
  {
   "cell_type": "code",
   "execution_count": 217,
   "metadata": {},
   "outputs": [
    {
     "name": "stdout",
     "output_type": "stream",
     "text": [
      "[120, 130, 140, 150]\n",
      "[120, 130, 180, 150]\n"
     ]
    }
   ],
   "source": [
    "updateList = [120,130,140,150]\n",
    "print(updateList)\n",
    "updateList[2] = 180\n",
    "print(updateList)"
   ]
  },
  {
   "cell_type": "code",
   "execution_count": 232,
   "metadata": {},
   "outputs": [
    {
     "data": {
      "text/plain": [
       "[100, 200, 1000000, 30]"
      ]
     },
     "execution_count": 232,
     "metadata": {},
     "output_type": "execute_result"
    }
   ],
   "source": [
    "initList = [100,200,300,400]\n",
    "\n",
    "# 인덱스 활용\n",
    "initList[0:3]\n",
    "\n",
    "#리스트는 집합이기 떄문에 집합 연산이 필수\n",
    "sum(initList) #sum, Len, min, max\n",
    "\n",
    "#리스트는 수정가능하다.\n",
    "initList[2] = 1000000\n",
    "\n",
    "initList.remove(400)\n",
    "initList.append(30)\n",
    "initList"
   ]
  },
  {
   "cell_type": "code",
   "execution_count": 233,
   "metadata": {},
   "outputs": [
    {
     "data": {
      "text/plain": [
       "[100, 200, 1000000, 30]"
      ]
     },
     "execution_count": 233,
     "metadata": {},
     "output_type": "execute_result"
    }
   ],
   "source": [
    "\n",
    "#리스트의 유용한 함수\n",
    "initList.count(2500)\n",
    "initList\n"
   ]
  },
  {
   "cell_type": "markdown",
   "metadata": {},
   "source": [
    "# 데이터정렬"
   ]
  },
  {
   "cell_type": "code",
   "execution_count": 311,
   "metadata": {},
   "outputs": [
    {
     "name": "stdout",
     "output_type": "stream",
     "text": [
      "414\n"
     ]
    }
   ],
   "source": [
    "#샘플데이터\n",
    "initList = [120,150,300,500,1000,100,2000] \n",
    "\n",
    "#샘플데이터를 오름차순으로 정렬한다.\n",
    "initList.sort()\n",
    "\n",
    "# 최소, 최대값을 뺀 리스트를 구한다.\n",
    "initList.remove(max(initList))\n",
    "initList.remove(min(initList))\n",
    "\n",
    "# 평균값으로 변수를 설정한다\n",
    "len(initList)\n",
    "average = int(sum(initList) / len(initList))\n",
    "print(average)"
   ]
  }
 ],
 "metadata": {
  "kernelspec": {
   "display_name": "Python 3",
   "language": "python",
   "name": "python3"
  },
  "language_info": {
   "codemirror_mode": {
    "name": "ipython",
    "version": 3
   },
   "file_extension": ".py",
   "mimetype": "text/x-python",
   "name": "python",
   "nbconvert_exporter": "python",
   "pygments_lexer": "ipython3",
   "version": "3.8.3"
  }
 },
 "nbformat": 4,
 "nbformat_minor": 4
}
