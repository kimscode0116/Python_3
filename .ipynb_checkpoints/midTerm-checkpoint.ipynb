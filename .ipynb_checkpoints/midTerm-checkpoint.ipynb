{
 "cells": [
  {
   "cell_type": "markdown",
   "metadata": {},
   "source": [
    "# 1. 라이브러리 선언"
   ]
  },
  {
   "cell_type": "code",
   "execution_count": 150,
   "metadata": {},
   "outputs": [],
   "source": [
    "import pandas as pd\n",
    "from bs4 import BeautifulSoup \n",
    "import requests\n",
    "from selenium import webdriver\n",
    "from selenium.webdriver.common.by import By\n",
    "from selenium.webdriver.common.keys import Keys"
   ]
  },
  {
   "cell_type": "markdown",
   "metadata": {},
   "source": [
    "# 2. 웹 드라이브 설정"
   ]
  },
  {
   "cell_type": "code",
   "execution_count": 151,
   "metadata": {},
   "outputs": [],
   "source": [
    "options = webdriver.ChromeOptions()\n",
    "options.add_argument(\"window-size=1920*1080\")\n",
    "driver_loc = \"../addon/chromedriver/chromedriver\" ## 제출전 경로확인\n",
    "driver = webdriver.Chrome(executable_path=driver_loc,options=options)\n",
    "\n",
    "targetUrl = \"https://store.musinsa.com/app/\"\n",
    "driver.get(targetUrl)"
   ]
  },
  {
   "cell_type": "markdown",
   "metadata": {},
   "source": [
    "# 3. 브라우저 내 액션"
   ]
  },
  {
   "cell_type": "code",
   "execution_count": 152,
   "metadata": {},
   "outputs": [],
   "source": [
    "##검색창에 마우스 커서클릭\n",
    "searchXpath = \"/html/body/div[2]/div/div[2]/div/div[1]/div[1]/div[1]/form/input[2]\"\n",
    "searchClick = driver.find_element_by_xpath(searchXpath)\n",
    "searchClick.click() \n",
    "\n",
    "##셔츠 키워드 검색\n",
    "musinsaSearch = driver.find_element_by_xpath(searchXpath)\n",
    "searchKeyword = \"셔츠\"\n",
    "musinsaSearch.send_keys(searchKeyword)\n",
    "musinsaSearch.send_keys(Keys.ENTER)\n",
    "\n",
    "##상품 카테고리 커서 올리기\n",
    "categoryXpath = \"/html/body/div[2]/div[2]/div[1]/div/nav/div[1]/div[2]/ul[2]/li[1]/a\"\n",
    "click = driver.find_element(By.XPATH, categoryXpath)\n",
    "webdriver.ActionChains(driver).move_to_element(click).perform()\n",
    "\n",
    "## 셔츠/블라우스 카테고리 선택\n",
    "categoryTouch = driver.find_element_by_xpath(categoryXpath)\n",
    "driver.execute_script(\"arguments[0].click();\", categoryTouch)"
   ]
  },
  {
   "cell_type": "markdown",
   "metadata": {},
   "source": [
    "# 4. 웹 크롤링(beautifulSoup)"
   ]
  },
  {
   "cell_type": "code",
   "execution_count": 153,
   "metadata": {},
   "outputs": [],
   "source": [
    "targetUrl = driver.current_url ## page_source로 html소스 확인가능\n",
    "resp = requests.get(url=targetUrl)\n",
    "resp.encoding=\"utf-8\"\n",
    "html = resp.text\n",
    "htmlObj = BeautifulSoup(html, \"html.parser\")\n",
    "\n",
    "allNameList = htmlObj.findAll(name = \"p\",attrs={\"class\":\"list_info\"})\n",
    "allPriceList = htmlObj.findAll(name = \"p\",attrs={\"class\":\"price\"})\n",
    "allbrandList = htmlObj.findAll(name = \"p\",attrs={\"class\":\"item_title\"})\n",
    "\n",
    "brandList = []\n",
    "nameList = []\n",
    "priceList = []\n",
    "\n",
    "for i in range(0,len(allNameList)):\n",
    "    product = allNameList[i].find(name=\"a\")\n",
    "    productName = product.attrs[\"title\"]\n",
    "    priceName = allPriceList[i].text.split(\"\\n\")[1].replace(\"                                \",\"\").split(\" \")[1]\n",
    "    brandName = allbrandList[i].text\n",
    "    \n",
    "    brandList.append(brandName)\n",
    "    nameList.append(productName)\n",
    "    priceList.append(priceName)\n",
    "\n",
    "answer = pd.DataFrame(zip(brandList,nameList,priceList),columns=[\"브랜드명\",\"제품명\",\"가격\"])\n",
    "\n",
    "## csv 파일 생성\n",
    "answer.to_csv(\"./musinsa_shirtsList.csv\", index=False, encoding=\"ms949\")"
   ]
  },
  {
   "cell_type": "markdown",
   "metadata": {},
   "source": [
    "# 5. smtp를 이용한 메일 발송"
   ]
  },
  {
   "cell_type": "code",
   "execution_count": 154,
   "metadata": {},
   "outputs": [],
   "source": [
    "## 비밀번호 보안을 위한 pickle library 사용\n",
    "import pickle\n",
    "\n",
    "with open('pw.pickle', 'wb') as handle:\n",
    "    pickle.dump(userpw, handle, pickle.HIGHEST_PROTOCOL)\n",
    "\n",
    "with open('pw.pickle', 'rb') as handle:\n",
    "    pwpickle = pickle.load(handle)\n",
    "\n",
    "## smtp library 사용\n",
    "import smtplib\n",
    "from email.message import EmailMessage\n",
    "\n",
    "smtp_gmail = smtplib.SMTP('smtp.gmail.com', 587)\n",
    "smtp_gmail.ehlo()\n",
    "smtp_gmail.starttls()\n",
    "\n",
    "userid = \"eunhye3576@gmail.com\"\n",
    "smtp_gmail.login(userid,pwpickle)\n",
    "\n",
    "## 이메일 리스트\n",
    "emailData = pd.read_csv(\"./emailList.csv\")\n",
    "to = emailData.email.tolist()\n",
    "\n",
    "## 제목 및 메일내용 작성\n",
    "msg=EmailMessage()\n",
    "msg['Subject']=\"무신사 셔츠/블라우스 카테고리 상품정보 리스트\"\n",
    "msg.set_content(\"무신사 쇼핑몰 셔츠/블라우스 카테고리입니다.\")\n",
    "msg['From']='eunhye3576@gmail.com'\n",
    "msg['To'] = 'eunhye3_3@naver.com'\n",
    "\n",
    "## sv 파일첨부\n",
    "file='musinsa_shirtsList.csv'\n",
    "fp = open(file,'rb')\n",
    "file_data=fp.read()\n",
    "msg.add_attachment(file_data,\n",
    "                  maintype='text',\n",
    "                  subtype='plain',\n",
    "                  filename=file)\n",
    "\n",
    "## mail 발송\n",
    "smtp_gmail.send_message(msg)\n",
    "smtp_gmail.close()"
   ]
  },
  {
   "cell_type": "code",
   "execution_count": null,
   "metadata": {},
   "outputs": [],
   "source": []
  }
 ],
 "metadata": {
  "kernelspec": {
   "display_name": "Python 3",
   "language": "python",
   "name": "python3"
  },
  "language_info": {
   "codemirror_mode": {
    "name": "ipython",
    "version": 3
   },
   "file_extension": ".py",
   "mimetype": "text/x-python",
   "name": "python",
   "nbconvert_exporter": "python",
   "pygments_lexer": "ipython3",
   "version": "3.8.5"
  }
 },
 "nbformat": 4,
 "nbformat_minor": 4
}
