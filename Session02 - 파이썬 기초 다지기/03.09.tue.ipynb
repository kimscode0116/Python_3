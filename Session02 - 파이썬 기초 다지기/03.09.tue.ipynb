{
 "cells": [
  {
   "cell_type": "code",
   "execution_count": 1,
   "metadata": {},
   "outputs": [],
   "source": []
  },
  {
   "cell_type": "code",
   "execution_count": 4,
   "metadata": {},
   "outputs": [],
   "source": [
    "import pandas as pd"
   ]
  },
  {
   "cell_type": "code",
   "execution_count": 11,
   "metadata": {},
   "outputs": [
    {
     "data": {
      "text/plain": [
       "414.0"
      ]
     },
     "execution_count": 11,
     "metadata": {},
     "output_type": "execute_result"
    }
   ],
   "source": [
    "pracList = [120,150,300,500,1000,100,100,2000]\n",
    "\n",
    "# 리스트 정렬\n",
    "pracList.sort()\n",
    "\n",
    "#최소값, 최대값을 구한다.\n",
    "maxDate = max(pracList)\n",
    "minDate = min(pracList)\n",
    "\n",
    "# 최소값 최대값의 개수를 구하기\n",
    "countDate1 = pracList.count(maxDate)\n",
    "countDate2 = pracList.count(minDate)\n",
    "\n",
    "#전체에서 최소값, 최대값을 제외한 범위 완성하기\n",
    "finList = pracList[countDate2:-countDate1]\n",
    "\n",
    "# 평균값 구하기\n",
    "average = sum(finList)/len(finList)\n",
    "average"
   ]
  },
  {
   "cell_type": "code",
   "execution_count": null,
   "metadata": {},
   "outputs": [],
   "source": []
  }
 ],
 "metadata": {
  "kernelspec": {
   "display_name": "Python 3",
   "language": "python",
   "name": "python3"
  },
  "language_info": {
   "codemirror_mode": {
    "name": "ipython",
    "version": 3
   },
   "file_extension": ".py",
   "mimetype": "text/x-python",
   "name": "python",
   "nbconvert_exporter": "python",
   "pygments_lexer": "ipython3",
   "version": "3.8.3"
  }
 },
 "nbformat": 4,
 "nbformat_minor": 4
}
