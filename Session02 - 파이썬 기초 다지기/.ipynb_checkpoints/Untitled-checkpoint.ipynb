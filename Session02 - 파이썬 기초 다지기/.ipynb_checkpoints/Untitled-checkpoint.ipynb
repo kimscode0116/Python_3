{
 "cells": [
  {
   "cell_type": "code",
   "execution_count": null,
   "metadata": {},
   "outputs": [],
   "source": [
    "def postWeek(inputYearWeek,plusWeek):\n",
    "    from isoweek import Week\n",
    "\n",
    "    # 형 변환\n",
    "    inputYear = int(str(inputYearWeek)[:4])\n",
    "    inputWeek = int(str(inputYearWeek)[4:])\n",
    "    yearWeek = Week.last_week_of_year(inputYear).week\n",
    "    \n",
    "    # 기준주차 \n",
    "    JudgeWeek = inputWeek + plusWeek  \n",
    "    \n",
    "    # 기준주차 <= 초기년도 총 주차 (년도가 바뀌지 않을 때)\n",
    "    if JudgeWeek <= yearWeek:   \n",
    "        resultYear = str(inputYear)\n",
    "        resultWeek = str(JudgeWeek)        \n",
    "    \n",
    "    # 기준주차 > 초기년도 총 주차 (년도가 바뀔 때)\n",
    "    elif JudgeWeek > yearWeek:   \n",
    "        for i in range (1, inputYear)\n",
    "            if JudgeWeek > calcWeek:\n",
    "                calcYear = inputYear + i  #초기년도에 반복한 횟수만큼 년도 추가\n",
    "                calcWeek = Week.last_week_of_year(calcYear).week  #추가년도의 총 주차\n",
    "                JudgeWeek = JudgeWeek - calcWeek\n",
    "                resultYear = str(calcYear)\n",
    "                resultWeek = str(JudgeWeek)\n",
    "                \n",
    "    if JudgeWeek < 10:  # 기준주차 < 10\n",
    "        resultWeek = \"0\" + resultWeek\n",
    "        \n",
    "    answer = resultYear + resultWeek\n",
    "    return answer \n",
    "\n",
    "postWeek(201920,100)"
   ]
  }
 ],
 "metadata": {
  "kernelspec": {
   "display_name": "Python 3",
   "language": "python",
   "name": "python3"
  },
  "language_info": {
   "codemirror_mode": {
    "name": "ipython",
    "version": 3
   },
   "file_extension": ".py",
   "mimetype": "text/x-python",
   "name": "python",
   "nbconvert_exporter": "python",
   "pygments_lexer": "ipython3",
   "version": "3.8.3"
  }
 },
 "nbformat": 4,
 "nbformat_minor": 4
}
