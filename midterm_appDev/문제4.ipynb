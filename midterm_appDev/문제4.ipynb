{
 "cells": [
  {
   "cell_type": "code",
   "execution_count": 24,
   "metadata": {},
   "outputs": [
    {
     "name": "stdin",
     "output_type": "stream",
     "text": [
      " 5 5 2\n",
      " 1\n",
      " 2\n",
      " 3\n",
      " 4\n",
      " 5\n"
     ]
    },
    {
     "name": "stdout",
     "output_type": "stream",
     "text": [
      "5\n",
      "5\n",
      "4\n",
      "24\n"
     ]
    }
   ],
   "source": [
    "# 사용자로부터 배열로 입력받기\n",
    "userInput = input(\"\").split(\" \")\n",
    "\n",
    "# 입력받은 값을 각각의 변수에 넣어줌\n",
    "n = int(userInput[0])\n",
    "m = int(userInput[1])\n",
    "k = int(userInput[2])\n",
    "\n",
    "# 새로운 배열에 사용자로부터 값을 받아옴\n",
    "data = []\n",
    "for i in range(0,n):\n",
    "    data.append(input(\"\"))\n",
    "\n",
    "# 형변환 후 정렬 \n",
    "data = list(map(int,data))\n",
    "data.sort()\n",
    "\n",
    "# 배열의 가장 큰 값과 두번째로 큰 값을 변수 지정\n",
    "first = data[n-1]\n",
    "second = data[n-2]\n",
    "\n",
    "# 결과 값을 담을 변수와 한숫자를 더하는 최대 횟수를 지정할 변수 생성 \n",
    "res = 0\n",
    "cnt = k\n",
    "\n",
    "for i in range(0,m):\n",
    "    # cnt가 0일때는 두번째 큰 값을 더해줌\n",
    "    if(cnt == 0):\n",
    "        res += second\n",
    "        cnt = k\n",
    "    # cnt가 0보다 클 때는 가장 큰 값을 더해줌    \n",
    "    else:\n",
    "        res += first\n",
    "        cnt -= 1\n",
    "        \n",
    "print(res)"
   ]
  }
 ],
 "metadata": {
  "kernelspec": {
   "display_name": "Python 3",
   "language": "python",
   "name": "python3"
  },
  "language_info": {
   "codemirror_mode": {
    "name": "ipython",
    "version": 3
   },
   "file_extension": ".py",
   "mimetype": "text/x-python",
   "name": "python",
   "nbconvert_exporter": "python",
   "pygments_lexer": "ipython3",
   "version": "3.8.5"
  }
 },
 "nbformat": 4,
 "nbformat_minor": 4
}
