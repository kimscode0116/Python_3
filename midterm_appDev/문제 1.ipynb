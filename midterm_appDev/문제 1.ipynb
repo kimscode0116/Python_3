{
 "cells": [
  {
   "cell_type": "code",
   "execution_count": 1,
   "metadata": {},
   "outputs": [
    {
     "name": "stdout",
     "output_type": "stream",
     "text": [
      "1\n",
      "2\n",
      "1\n"
     ]
    }
   ],
   "source": [
    "# file 변수에 문자열을 읽음\n",
    "with open('inputTest.txt', 'r') as file:\n",
    "    # 문자열이 들어올 횟수를 T변수에 담음\n",
    "    T = file.readline()\n",
    "    \n",
    "    for i in range(0,int(T)):\n",
    "        # 읽어오는 문자열을 담아줄 배열을 생성\n",
    "        arr=[]\n",
    "        # 카운트 변수 생성\n",
    "        aSum = 0\n",
    "        # 문자열 한줄을 읽어와서 배열에 넣어줌\n",
    "        arr = file.readline()\n",
    "        \n",
    "        # 배열의 길이만큼 반복문을 돌아서 특정문자를 검사함\n",
    "        for j in range(0,len(arr)):\n",
    "            if(arr[j] == 'A'):\n",
    "                aSum += 1\n",
    "        print(aSum)"
   ]
  },
  {
   "cell_type": "code",
   "execution_count": null,
   "metadata": {},
   "outputs": [],
   "source": []
  }
 ],
 "metadata": {
  "kernelspec": {
   "display_name": "Python 3",
   "language": "python",
   "name": "python3"
  },
  "language_info": {
   "codemirror_mode": {
    "name": "ipython",
    "version": 3
   },
   "file_extension": ".py",
   "mimetype": "text/x-python",
   "name": "python",
   "nbconvert_exporter": "python",
   "pygments_lexer": "ipython3",
   "version": "3.8.3"
  }
 },
 "nbformat": 4,
 "nbformat_minor": 4
}
