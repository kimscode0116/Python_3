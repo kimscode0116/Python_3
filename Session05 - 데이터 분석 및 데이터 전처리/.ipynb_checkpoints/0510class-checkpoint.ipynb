{
 "cells": [
  {
   "cell_type": "markdown",
   "metadata": {},
   "source": [
    "## 예제 1"
   ]
  },
  {
   "cell_type": "code",
   "execution_count": 20,
   "metadata": {},
   "outputs": [
    {
     "data": {
      "text/html": [
       "<div>\n",
       "<style scoped>\n",
       "    .dataframe tbody tr th:only-of-type {\n",
       "        vertical-align: middle;\n",
       "    }\n",
       "\n",
       "    .dataframe tbody tr th {\n",
       "        vertical-align: top;\n",
       "    }\n",
       "\n",
       "    .dataframe thead th {\n",
       "        text-align: right;\n",
       "    }\n",
       "</style>\n",
       "<table border=\"1\" class=\"dataframe\">\n",
       "  <thead>\n",
       "    <tr style=\"text-align: right;\">\n",
       "      <th></th>\n",
       "      <th>CUSTID</th>\n",
       "      <th>AVGPRICE</th>\n",
       "      <th>EMI</th>\n",
       "      <th>DEVICECOUNT</th>\n",
       "      <th>PRODUCTAGE</th>\n",
       "      <th>CUSTTYPE</th>\n",
       "    </tr>\n",
       "  </thead>\n",
       "  <tbody>\n",
       "    <tr>\n",
       "      <th>0</th>\n",
       "      <td>A13566</td>\n",
       "      <td>4273.900000</td>\n",
       "      <td>3</td>\n",
       "      <td>6</td>\n",
       "      <td>1.679181</td>\n",
       "      <td>Big-Screen-lover</td>\n",
       "    </tr>\n",
       "    <tr>\n",
       "      <th>1</th>\n",
       "      <td>A14219</td>\n",
       "      <td>3642.441950</td>\n",
       "      <td>2</td>\n",
       "      <td>4</td>\n",
       "      <td>2.682023</td>\n",
       "      <td>Sleeping-dog</td>\n",
       "    </tr>\n",
       "    <tr>\n",
       "      <th>2</th>\n",
       "      <td>A15312</td>\n",
       "      <td>3653.884565</td>\n",
       "      <td>2</td>\n",
       "      <td>5</td>\n",
       "      <td>3.208202</td>\n",
       "      <td>Sleeping-dog</td>\n",
       "    </tr>\n",
       "  </tbody>\n",
       "</table>\n",
       "</div>"
      ],
      "text/plain": [
       "   CUSTID     AVGPRICE  EMI  DEVICECOUNT  PRODUCTAGE          CUSTTYPE\n",
       "0  A13566  4273.900000    3            6    1.679181  Big-Screen-lover\n",
       "1  A14219  3642.441950    2            4    2.682023      Sleeping-dog\n",
       "2  A15312  3653.884565    2            5    3.208202      Sleeping-dog"
      ]
     },
     "execution_count": 20,
     "metadata": {},
     "output_type": "execute_result"
    }
   ],
   "source": [
    "## 1) 라이브러리 정의\n",
    "\n",
    "import pandas as pd\n",
    "import numpy as np\n",
    "\n",
    "## 2) 데이터 불러오기\n",
    "\n",
    "csData = pd.read_csv(\"../dataset/customerdata.csv\",encoding=\"ms949\")\n",
    "testDF=[\"A\"]\n",
    "\n",
    "angryCustomer = \\\n",
    "    pd.DataFrame(list(csData.CUSTID[0:3]),\n",
    "    columns = [\"CSID\"])\n",
    "\n",
    "angryList = list(angryCustomer.CSID)\n",
    "csData.loc[csData.CUSTID.isin(angryList)]"
   ]
  },
  {
   "cell_type": "markdown",
   "metadata": {},
   "source": [
    "## 예제 2"
   ]
  },
  {
   "cell_type": "code",
   "execution_count": 18,
   "metadata": {},
   "outputs": [],
   "source": [
    "## 1) 라이브러리 정의 및 파일 불러오기\n",
    "\n",
    "import pandas as pd\n",
    "# CSV 파일을 읽어 Data Frame 변수에 저장하기\n",
    "customerData = pd.read_csv(\"../dataset/customerData.csv\")\n",
    "\n",
    "## 2) 타겟 컬럼 정의 및 조회\n",
    "\n",
    "targetColumns = [\"CUSTID\",\"AVGPRICE\"]\n",
    "customerDataC = customerData.loc[ : , \"CUSTID\":\"DEVICECOUNT\" ]\n",
    "customerDataC = customerData.loc[ : , targetColumns ]\n",
    "\n",
    "## 3) index로 데이터 조회하기\n",
    "customerData.iloc[:,0:3] \n",
    "\n",
    "customerData.columns.get_loc(\"CUSTID\")\n",
    "emi3Data=customerData.loc[customerData.EMI == 3]\n",
    "emi3Data.reset_index(drop=True,inplace=True) # 인덱스 변경하기\n",
    "\n",
    "# 데이터 조회하기 VIEW\n",
    "customerDataC.head(2)\n",
    "customerDataC2 = customerDataC.copy() ## copy는 이렇게 하는게 정석임\n",
    "customerDataC2.CUSTID = 1"
   ]
  },
  {
   "cell_type": "markdown",
   "metadata": {},
   "source": [
    "## 예제 3"
   ]
  },
  {
   "cell_type": "code",
   "execution_count": 11,
   "metadata": {},
   "outputs": [
    {
     "data": {
      "text/html": [
       "<div>\n",
       "<style scoped>\n",
       "    .dataframe tbody tr th:only-of-type {\n",
       "        vertical-align: middle;\n",
       "    }\n",
       "\n",
       "    .dataframe tbody tr th {\n",
       "        vertical-align: top;\n",
       "    }\n",
       "\n",
       "    .dataframe thead th {\n",
       "        text-align: right;\n",
       "    }\n",
       "</style>\n",
       "<table border=\"1\" class=\"dataframe\">\n",
       "  <thead>\n",
       "    <tr style=\"text-align: right;\">\n",
       "      <th></th>\n",
       "      <th>STATENAME</th>\n",
       "      <th>GENDER</th>\n",
       "    </tr>\n",
       "  </thead>\n",
       "  <tbody>\n",
       "    <tr>\n",
       "      <th>0</th>\n",
       "      <td>State2</td>\n",
       "      <td>Male</td>\n",
       "    </tr>\n",
       "    <tr>\n",
       "      <th>1</th>\n",
       "      <td>State2</td>\n",
       "      <td>Male</td>\n",
       "    </tr>\n",
       "    <tr>\n",
       "      <th>2</th>\n",
       "      <td>State2</td>\n",
       "      <td>Female</td>\n",
       "    </tr>\n",
       "    <tr>\n",
       "      <th>3</th>\n",
       "      <td>State2</td>\n",
       "      <td>Male</td>\n",
       "    </tr>\n",
       "    <tr>\n",
       "      <th>4</th>\n",
       "      <td>State2</td>\n",
       "      <td>Male</td>\n",
       "    </tr>\n",
       "  </tbody>\n",
       "</table>\n",
       "</div>"
      ],
      "text/plain": [
       "  STATENAME  GENDER\n",
       "0    State2    Male\n",
       "1    State2    Male\n",
       "2    State2  Female\n",
       "3    State2    Male\n",
       "4    State2    Male"
      ]
     },
     "execution_count": 11,
     "metadata": {},
     "output_type": "execute_result"
    }
   ],
   "source": [
    "## 1) 라이브러리 선언\n",
    "\n",
    "import pandas as pd\n",
    "import numpy as np\n",
    "\n",
    "## 2) 데이터 불러오기\n",
    "\n",
    "kopo_customerData = pd.read_csv(\"../dataset/kopo_customerdata.csv\")\n",
    "\n",
    "# 3) 특정 컬럼 정의, 불러오기\n",
    "\n",
    "targetColumns = [\"STATENAME\",\"GENDER\"]\n",
    "targetData = kopo_customerData.loc[ : , targetColumns]\n",
    "\n",
    "# 4) 첫 5개 행 조회\n",
    "\n",
    "targetData.head()"
   ]
  },
  {
   "cell_type": "markdown",
   "metadata": {},
   "source": [
    "# * 데이터 조작하기 (이게 젤젤 중요함!!!!!!!!)\n",
    "##### 1. NP.WHERE 조작한다. (*복잡한 로직에는 힘들어진다)\n",
    "##### 2. 함수를 활용하여 조작한다. ( * 복잡한 로직에도 강하다)\n",
    "##### 3. loc 함수를 활용해서 조작한다.(* 가독성이 뛰어나나 속도가 떨어진다)\n",
    "##### 4. map 함수를 사용할 수도 있다.(머신러닝에서 많이 사용된다!)"
   ]
  },
  {
   "cell_type": "code",
   "execution_count": 154,
   "metadata": {},
   "outputs": [],
   "source": [
    "## 1) 라이브러리 선언\n",
    "import numpy as np\n",
    "\n",
    "## 2) 데이터 불러오기\n",
    "customerData = pd.read_csv(\"../dataset/customerData.csv\")\n",
    "\n",
    "## 3) 컬럼 조회하기\n",
    "customerData.columns # 컬럼으로 조회"
   ]
  },
  {
   "cell_type": "markdown",
   "metadata": {},
   "source": [
    "## 1) np.where 방식"
   ]
  },
  {
   "cell_type": "code",
   "execution_count": 153,
   "metadata": {
    "collapsed": true,
    "jupyter": {
     "outputs_hidden": true
    }
   },
   "outputs": [
    {
     "data": {
      "text/html": [
       "<div>\n",
       "<style scoped>\n",
       "    .dataframe tbody tr th:only-of-type {\n",
       "        vertical-align: middle;\n",
       "    }\n",
       "\n",
       "    .dataframe tbody tr th {\n",
       "        vertical-align: top;\n",
       "    }\n",
       "\n",
       "    .dataframe thead th {\n",
       "        text-align: right;\n",
       "    }\n",
       "</style>\n",
       "<table border=\"1\" class=\"dataframe\">\n",
       "  <thead>\n",
       "    <tr style=\"text-align: right;\">\n",
       "      <th></th>\n",
       "      <th>CUSTID</th>\n",
       "      <th>AVGPRICE</th>\n",
       "      <th>EMI</th>\n",
       "      <th>DEVICECOUNT</th>\n",
       "      <th>PRODUCTAGE</th>\n",
       "      <th>CUSTTYPE</th>\n",
       "      <th>PRODUCTAGE_NEW</th>\n",
       "    </tr>\n",
       "  </thead>\n",
       "  <tbody>\n",
       "    <tr>\n",
       "      <th>0</th>\n",
       "      <td>A13566</td>\n",
       "      <td>4273.900000</td>\n",
       "      <td>3</td>\n",
       "      <td>6</td>\n",
       "      <td>1.679181</td>\n",
       "      <td>Big-Screen-lover</td>\n",
       "      <td>0</td>\n",
       "    </tr>\n",
       "    <tr>\n",
       "      <th>1</th>\n",
       "      <td>A14219</td>\n",
       "      <td>3642.441950</td>\n",
       "      <td>2</td>\n",
       "      <td>4</td>\n",
       "      <td>2.682023</td>\n",
       "      <td>Sleeping-dog</td>\n",
       "      <td>0</td>\n",
       "    </tr>\n",
       "    <tr>\n",
       "      <th>2</th>\n",
       "      <td>A15312</td>\n",
       "      <td>3653.884565</td>\n",
       "      <td>2</td>\n",
       "      <td>5</td>\n",
       "      <td>3.208202</td>\n",
       "      <td>Sleeping-dog</td>\n",
       "      <td>0</td>\n",
       "    </tr>\n",
       "    <tr>\n",
       "      <th>4</th>\n",
       "      <td>B10634</td>\n",
       "      <td>3391.074215</td>\n",
       "      <td>2</td>\n",
       "      <td>4</td>\n",
       "      <td>2.453656</td>\n",
       "      <td>Sleeping-dog</td>\n",
       "      <td>0</td>\n",
       "    </tr>\n",
       "    <tr>\n",
       "      <th>5</th>\n",
       "      <td>B16849</td>\n",
       "      <td>3755.263391</td>\n",
       "      <td>2</td>\n",
       "      <td>4</td>\n",
       "      <td>2.786665</td>\n",
       "      <td>Sleeping-dog</td>\n",
       "      <td>0</td>\n",
       "    </tr>\n",
       "    <tr>\n",
       "      <th>...</th>\n",
       "      <td>...</td>\n",
       "      <td>...</td>\n",
       "      <td>...</td>\n",
       "      <td>...</td>\n",
       "      <td>...</td>\n",
       "      <td>...</td>\n",
       "      <td>...</td>\n",
       "    </tr>\n",
       "    <tr>\n",
       "      <th>144</th>\n",
       "      <td>Z12772</td>\n",
       "      <td>3029.600000</td>\n",
       "      <td>2</td>\n",
       "      <td>4</td>\n",
       "      <td>2.093035</td>\n",
       "      <td>Big-Screen-lover</td>\n",
       "      <td>0</td>\n",
       "    </tr>\n",
       "    <tr>\n",
       "      <th>145</th>\n",
       "      <td>Z13253</td>\n",
       "      <td>3678.800000</td>\n",
       "      <td>2</td>\n",
       "      <td>5</td>\n",
       "      <td>2.463670</td>\n",
       "      <td>Big-Screen-lover</td>\n",
       "      <td>0</td>\n",
       "    </tr>\n",
       "    <tr>\n",
       "      <th>147</th>\n",
       "      <td>Z16428</td>\n",
       "      <td>3516.500000</td>\n",
       "      <td>2</td>\n",
       "      <td>5</td>\n",
       "      <td>2.371301</td>\n",
       "      <td>Big-Screen-lover</td>\n",
       "      <td>0</td>\n",
       "    </tr>\n",
       "    <tr>\n",
       "      <th>148</th>\n",
       "      <td>Z16735</td>\n",
       "      <td>3300.100000</td>\n",
       "      <td>2</td>\n",
       "      <td>5</td>\n",
       "      <td>1.704942</td>\n",
       "      <td>Big-Screen-lover</td>\n",
       "      <td>0</td>\n",
       "    </tr>\n",
       "    <tr>\n",
       "      <th>149</th>\n",
       "      <td>Z19835</td>\n",
       "      <td>3326.526183</td>\n",
       "      <td>2</td>\n",
       "      <td>6</td>\n",
       "      <td>1.200000</td>\n",
       "      <td>Early-bird</td>\n",
       "      <td>0</td>\n",
       "    </tr>\n",
       "  </tbody>\n",
       "</table>\n",
       "<p>116 rows × 7 columns</p>\n",
       "</div>"
      ],
      "text/plain": [
       "     CUSTID     AVGPRICE  EMI  DEVICECOUNT  PRODUCTAGE          CUSTTYPE  \\\n",
       "0    A13566  4273.900000    3            6    1.679181  Big-Screen-lover   \n",
       "1    A14219  3642.441950    2            4    2.682023      Sleeping-dog   \n",
       "2    A15312  3653.884565    2            5    3.208202      Sleeping-dog   \n",
       "4    B10634  3391.074215    2            4    2.453656      Sleeping-dog   \n",
       "5    B16849  3755.263391    2            4    2.786665      Sleeping-dog   \n",
       "..      ...          ...  ...          ...         ...               ...   \n",
       "144  Z12772  3029.600000    2            4    2.093035  Big-Screen-lover   \n",
       "145  Z13253  3678.800000    2            5    2.463670  Big-Screen-lover   \n",
       "147  Z16428  3516.500000    2            5    2.371301  Big-Screen-lover   \n",
       "148  Z16735  3300.100000    2            5    1.704942  Big-Screen-lover   \n",
       "149  Z19835  3326.526183    2            6    1.200000        Early-bird   \n",
       "\n",
       "     PRODUCTAGE_NEW  \n",
       "0                 0  \n",
       "1                 0  \n",
       "2                 0  \n",
       "4                 0  \n",
       "5                 0  \n",
       "..              ...  \n",
       "144               0  \n",
       "145               0  \n",
       "147               0  \n",
       "148               0  \n",
       "149               0  \n",
       "\n",
       "[116 rows x 7 columns]"
      ]
     },
     "execution_count": 153,
     "metadata": {},
     "output_type": "execute_result"
    }
   ],
   "source": [
    "customerData[\"PRODUCTAGE_NEW\"] = \\\n",
    "    np.where(customerData.PRODUCTAGE<1,1,0) ## 1보다 작은애들을 다 1로 바꿨음\n",
    "\n",
    "customerData.loc[(customerData.PRODUCTAGE>=1) & \n",
    "                     (customerData.PRODUCTAGE_NEW !=customerData.PRODUCTAGE)] ## 따라서 여기서 1이 아니면서 1보다 작은애들은 없어야함"
   ]
  },
  {
   "cell_type": "markdown",
   "metadata": {},
   "source": [
    "## 2) 함수활용"
   ]
  },
  {
   "cell_type": "code",
   "execution_count": 16,
   "metadata": {
    "collapsed": true,
    "jupyter": {
     "outputs_hidden": true
    }
   },
   "outputs": [
    {
     "ename": "NameError",
     "evalue": "name 'customerData' is not defined",
     "output_type": "error",
     "traceback": [
      "\u001b[1;31m---------------------------------------------------------------------------\u001b[0m",
      "\u001b[1;31mNameError\u001b[0m                                 Traceback (most recent call last)",
      "\u001b[1;32m<ipython-input-16-525a861a36f3>\u001b[0m in \u001b[0;36m<module>\u001b[1;34m\u001b[0m\n\u001b[0;32m     17\u001b[0m     \u001b[1;32mreturn\u001b[0m \u001b[0moutValue\u001b[0m\u001b[1;33m\u001b[0m\u001b[1;33m\u001b[0m\u001b[0m\n\u001b[0;32m     18\u001b[0m \u001b[1;33m\u001b[0m\u001b[0m\n\u001b[1;32m---> 19\u001b[1;33m \u001b[0mcustomerData\u001b[0m\u001b[1;33m[\u001b[0m\u001b[1;34m\"PRODUCTAGE_NEW\"\u001b[0m\u001b[1;33m]\u001b[0m\u001b[1;33m=\u001b[0m\u001b[0mcustomerData\u001b[0m\u001b[1;33m.\u001b[0m\u001b[0mPRODUCTAGE\u001b[0m\u001b[1;33m.\u001b[0m\u001b[0mapply\u001b[0m\u001b[1;33m(\u001b[0m\u001b[0mvalueClustering\u001b[0m\u001b[1;33m)\u001b[0m\u001b[1;33m\u001b[0m\u001b[1;33m\u001b[0m\u001b[0m\n\u001b[0m\u001b[0;32m     20\u001b[0m \u001b[1;33m\u001b[0m\u001b[0m\n\u001b[0;32m     21\u001b[0m \u001b[1;31m## loc함수를 활용해서 조작\u001b[0m\u001b[1;33m\u001b[0m\u001b[1;33m\u001b[0m\u001b[1;33m\u001b[0m\u001b[0m\n",
      "\u001b[1;31mNameError\u001b[0m: name 'customerData' is not defined"
     ]
    }
   ],
   "source": [
    "# 함수정의 \n",
    "# inputValue < 1 => 1  \n",
    "# 1 <= inputValue < 2 => 2  \n",
    "# 이외 inputValue => 3\n",
    "\n",
    "def valueClustering(inValue):\n",
    "\n",
    "    # inValue = 0.3\n",
    "    outValue = inValue\n",
    "\n",
    "    if inValue < 1:\n",
    "        outValue = 1\n",
    "    elif inValue < 2:\n",
    "        outValue = 2\n",
    "    else : 3\n",
    "\n",
    "    return outValue\n",
    "\n",
    "customerData[\"PRODUCTAGE_NEW\"]=customerData.PRODUCTAGE.apply(valueClustering)\n",
    "\n",
    "## loc함수를 활용해서 조작\n",
    "customerData.loc[customerData.PRODUCTAGE<1,\\\n",
    "                 \"PRODUCTAGE_NEW\"] = 1"
   ]
  },
  {
   "cell_type": "markdown",
   "metadata": {},
   "source": [
    "## 3) loc방식"
   ]
  },
  {
   "cell_type": "code",
   "execution_count": 12,
   "metadata": {},
   "outputs": [],
   "source": [
    "customerData.loc[customerData.PRODUCTAGE<1 ,\\\n",
    "                     \"PRODUCTAGE_NEW\"]=1\n",
    "\n",
    "customerData.loc[(customerData.PRODUCTAGE>=1) &\n",
    "                 (customerData.PRODUCTAGE<2),\\\n",
    "                     \"PRODUCTAGE_NEW\"]=2\n",
    "\n",
    "customerData.loc[customerData.PRODUCTAGE>=2 ,\n",
    "                     \"PRODUCTAGE_NEW\"]=3\n",
    "\n",
    "customerData.loc[(customerData.PRODUCTAGE<1) &\\\n",
    "                 (customerData.PRODUCTAGE_NEW !=1) ]\n",
    "\n",
    "customerData.CUSTID.str.lower() +\\ \"_\"+\\\n",
    "customerData.EMI.astype(str)"
   ]
  },
  {
   "cell_type": "markdown",
   "metadata": {},
   "source": [
    "## 4) map 함수"
   ]
  },
  {
   "cell_type": "code",
   "execution_count": 179,
   "metadata": {
    "collapsed": true,
    "jupyter": {
     "outputs_hidden": true
    }
   },
   "outputs": [],
   "source": [
    "featuresData = \\\n",
    "    pd.read_csv(\"../dataset/feature_regression_example.csv\")\n",
    "\n",
    "ynMap = {\"Y\":1, \"N\":0}\n",
    "featuresData[\"HOLIDAY_NEW\"]=featuresData.HOLIDAY.map(ynMap)\n",
    "\n",
    "def ynDecimalConvert(inValue):\n",
    "    if inValue ==\"Y\":\n",
    "        outValue = 1\n",
    "    else:\n",
    "        outValue = 0\n",
    "    return outValue\n",
    "\n",
    "featuresData.HOLIDAY.apply(ynDecimalConvert)"
   ]
  },
  {
   "cell_type": "code",
   "execution_count": null,
   "metadata": {},
   "outputs": [],
   "source": []
  }
 ],
 "metadata": {
  "kernelspec": {
   "display_name": "Python 3",
   "language": "python",
   "name": "python3"
  },
  "language_info": {
   "codemirror_mode": {
    "name": "ipython",
    "version": 3
   },
   "file_extension": ".py",
   "mimetype": "text/x-python",
   "name": "python",
   "nbconvert_exporter": "python",
   "pygments_lexer": "ipython3",
   "version": "3.8.3"
  }
 },
 "nbformat": 4,
 "nbformat_minor": 4
}
