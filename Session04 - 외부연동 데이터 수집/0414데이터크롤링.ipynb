{
 "cells": [
  {
   "cell_type": "markdown",
   "metadata": {},
   "source": [
    "# 1. pandas 데이터 프레임"
   ]
  },
  {
   "cell_type": "code",
   "execution_count": 36,
   "metadata": {},
   "outputs": [],
   "source": [
    "import pandas as pd"
   ]
  },
  {
   "cell_type": "markdown",
   "metadata": {},
   "source": [
    "### 1. 리스트에서 데이터프레임 생성하기"
   ]
  },
  {
   "cell_type": "code",
   "execution_count": 37,
   "metadata": {},
   "outputs": [],
   "source": [
    "rowFirst = [\"A01\",202015, 100]\n",
    "rowSecond = [\"A01\",202015, 100]\n",
    "rowThird = [\"A01\",202015, 100]"
   ]
  },
  {
   "cell_type": "code",
   "execution_count": 38,
   "metadata": {},
   "outputs": [],
   "source": [
    "df1 = pd.DataFrame([rowFirst,rowSecond, rowThird])"
   ]
  },
  {
   "cell_type": "code",
   "execution_count": 39,
   "metadata": {},
   "outputs": [],
   "source": [
    "columnName = [\"REGIONID\",\"YEARWEEK\",\"QTY\"]"
   ]
  },
  {
   "cell_type": "code",
   "execution_count": 40,
   "metadata": {},
   "outputs": [],
   "source": [
    "df1.columns = columnName"
   ]
  },
  {
   "cell_type": "code",
   "execution_count": 41,
   "metadata": {},
   "outputs": [],
   "source": [
    "columnFirst = [\"A01\", \"A01\", \"A01\"]\n",
    "columnSecond = [202015,202016,202017]\n",
    "columnThird = [100,110,150]"
   ]
  },
  {
   "cell_type": "code",
   "execution_count": 42,
   "metadata": {},
   "outputs": [],
   "source": [
    "df2 = pd.DataFrame(zip(columnFirst, columnSecond,columnThird))"
   ]
  },
  {
   "cell_type": "code",
   "execution_count": 43,
   "metadata": {},
   "outputs": [],
   "source": [
    "df2.columns = columnName"
   ]
  },
  {
   "cell_type": "code",
   "execution_count": 44,
   "metadata": {},
   "outputs": [
    {
     "data": {
      "text/html": [
       "<div>\n",
       "<style scoped>\n",
       "    .dataframe tbody tr th:only-of-type {\n",
       "        vertical-align: middle;\n",
       "    }\n",
       "\n",
       "    .dataframe tbody tr th {\n",
       "        vertical-align: top;\n",
       "    }\n",
       "\n",
       "    .dataframe thead th {\n",
       "        text-align: right;\n",
       "    }\n",
       "</style>\n",
       "<table border=\"1\" class=\"dataframe\">\n",
       "  <thead>\n",
       "    <tr style=\"text-align: right;\">\n",
       "      <th></th>\n",
       "      <th>REGIONID</th>\n",
       "      <th>YEARWEEK</th>\n",
       "      <th>QTY</th>\n",
       "    </tr>\n",
       "  </thead>\n",
       "  <tbody>\n",
       "    <tr>\n",
       "      <th>0</th>\n",
       "      <td>A01</td>\n",
       "      <td>202015</td>\n",
       "      <td>100</td>\n",
       "    </tr>\n",
       "    <tr>\n",
       "      <th>1</th>\n",
       "      <td>A01</td>\n",
       "      <td>202016</td>\n",
       "      <td>110</td>\n",
       "    </tr>\n",
       "    <tr>\n",
       "      <th>2</th>\n",
       "      <td>A01</td>\n",
       "      <td>202017</td>\n",
       "      <td>150</td>\n",
       "    </tr>\n",
       "  </tbody>\n",
       "</table>\n",
       "</div>"
      ],
      "text/plain": [
       "  REGIONID  YEARWEEK  QTY\n",
       "0      A01    202015  100\n",
       "1      A01    202016  110\n",
       "2      A01    202017  150"
      ]
     },
     "execution_count": 44,
     "metadata": {},
     "output_type": "execute_result"
    }
   ],
   "source": [
    "df2"
   ]
  },
  {
   "cell_type": "markdown",
   "metadata": {},
   "source": [
    "# 1. 라이브러리 선언"
   ]
  },
  {
   "cell_type": "code",
   "execution_count": 330,
   "metadata": {},
   "outputs": [],
   "source": [
    "import pandas as pd\n",
    "\n",
    "from bs4 import BeautifulSoup ## 태그를 아름답게 뜬다\n",
    "import requests ## 웹페이지 접속 요청(소스코드 가져오기)"
   ]
  },
  {
   "cell_type": "markdown",
   "metadata": {},
   "source": [
    "# 2. 타겟 URL 선언 및 접속"
   ]
  },
  {
   "cell_type": "code",
   "execution_count": 331,
   "metadata": {},
   "outputs": [],
   "source": [
    "targetUrl = \"http://sparkkorea.com/퀴즈\"\n",
    "\n",
    "resp = requests.get(url=targetUrl)\n",
    "\n",
    "resp.encoding=\"utf-8\"\n",
    "\n",
    "html = resp.text\n",
    "\n",
    "htmlObj = BeautifulSoup(html, \"html.parser\")"
   ]
  },
  {
   "cell_type": "markdown",
   "metadata": {},
   "source": [
    "# 3. 태그 접근하기"
   ]
  },
  {
   "cell_type": "code",
   "execution_count": 332,
   "metadata": {},
   "outputs": [
    {
     "data": {
      "text/plain": [
       "[<a class=\"skip-link screen-reader-text\" href=\"#content\">컨텐츠로 건너뛰기</a>,\n",
       " <a href=\"https://sparkkorea.com/\" rel=\"home\">\n",
       " \t\t\t\t\t스파크 코리아\t\t\t\t</a>,\n",
       " <a href=\"https://sparkkorea.com/%ec%9e%90%eb%a3%8c%ec%8b%a4/\">자료실</a>]"
      ]
     },
     "execution_count": 332,
     "metadata": {},
     "output_type": "execute_result"
    }
   ],
   "source": [
    "htmlObj.findAll(name = \"a\",limit=3)"
   ]
  },
  {
   "cell_type": "code",
   "execution_count": 336,
   "metadata": {},
   "outputs": [
    {
     "data": {
      "text/plain": [
       "<a class=\"skip-link screen-reader-text\" href=\"#content\">컨텐츠로 건너뛰기</a>"
      ]
     },
     "execution_count": 336,
     "metadata": {},
     "output_type": "execute_result"
    }
   ],
   "source": [
    "htmlObj.find(name = \"a\")"
   ]
  },
  {
   "cell_type": "code",
   "execution_count": 337,
   "metadata": {},
   "outputs": [],
   "source": [
    "targetParent = htmlObj.find(name = \"a\",attrs={\"id\":\"id_spark_quiz\"})"
   ]
  },
  {
   "cell_type": "code",
   "execution_count": 338,
   "metadata": {},
   "outputs": [
    {
     "ename": "AttributeError",
     "evalue": "'NoneType' object has no attribute 'find'",
     "output_type": "error",
     "traceback": [
      "\u001b[1;31m---------------------------------------------------------------------------\u001b[0m",
      "\u001b[1;31mAttributeError\u001b[0m                            Traceback (most recent call last)",
      "\u001b[1;32m<ipython-input-338-feea0a0c932a>\u001b[0m in \u001b[0;36m<module>\u001b[1;34m\u001b[0m\n\u001b[1;32m----> 1\u001b[1;33m \u001b[0meachTag\u001b[0m \u001b[1;33m=\u001b[0m \u001b[0mtargetParent\u001b[0m\u001b[1;33m.\u001b[0m\u001b[0mfind\u001b[0m\u001b[1;33m(\u001b[0m\u001b[0mname\u001b[0m \u001b[1;33m=\u001b[0m \u001b[1;34m\"a\"\u001b[0m\u001b[1;33m)\u001b[0m\u001b[1;33m\u001b[0m\u001b[1;33m\u001b[0m\u001b[0m\n\u001b[0m",
      "\u001b[1;31mAttributeError\u001b[0m: 'NoneType' object has no attribute 'find'"
     ]
    }
   ],
   "source": [
    "eachTag = targetParent.find(name = \"a\")"
   ]
  },
  {
   "cell_type": "markdown",
   "metadata": {},
   "source": [
    "### 3-2 태그내 속성정보로 원하는 정보 찾기"
   ]
  },
  {
   "cell_type": "code",
   "execution_count": 120,
   "metadata": {},
   "outputs": [
    {
     "data": {
      "text/plain": [
       "[<a href=\"https://forms.gle/Fw49w9GhWQChDcZm7\"> 6/13 Spark 심화과정 </a>,\n",
       " <a href=\"https://forms.gle/G4TcXm3fKuHLHA6D6\"> 6/13 Spark 기본과정 </a>,\n",
       " <a href=\"https://forms.gle/M8gr1kC2ubA3UDVp8\"> 6/18 Spark [MAP_FILTER] </a>,\n",
       " <a href=\"https://forms.gle/h8w5mZ4MNaPLCPbi6\"> 6/18 Spark GroupBy 심화 </a>,\n",
       " <a href=\"https://forms.gle/q5yL6QHfueDLM5w27\"> 6/25 Spark RDD 실전 분석 </a>,\n",
       " <a href=\"https://forms.gle/Gxb4y6LfVYiaLu4M7\"> 6/27 Spark RDD 실전 분석2 </a>]"
      ]
     },
     "execution_count": 120,
     "metadata": {},
     "output_type": "execute_result"
    }
   ],
   "source": [
    "atags "
   ]
  },
  {
   "cell_type": "code",
   "execution_count": 171,
   "metadata": {},
   "outputs": [
    {
     "data": {
      "text/plain": [
       "' 6/13 Spark 심화과정 '"
      ]
     },
     "execution_count": 171,
     "metadata": {},
     "output_type": "execute_result"
    }
   ],
   "source": [
    "eachTag.text"
   ]
  },
  {
   "cell_type": "code",
   "execution_count": 90,
   "metadata": {},
   "outputs": [
    {
     "data": {
      "text/plain": [
       "'https://forms.gle/Fw49w9GhWQChDcZm7'"
      ]
     },
     "execution_count": 90,
     "metadata": {},
     "output_type": "execute_result"
    }
   ],
   "source": [
    "eachTag.attrs[\"href\"]"
   ]
  },
  {
   "cell_type": "code",
   "execution_count": 103,
   "metadata": {},
   "outputs": [
    {
     "data": {
      "text/plain": [
       "[' 6/13 Spark 심화과정 ']"
      ]
     },
     "execution_count": 103,
     "metadata": {},
     "output_type": "execute_result"
    }
   ],
   "source": [
    "atags = targetParent.findAll(name = \"a\")\n",
    "\n",
    "valueList = []\n",
    "\n",
    "eachTags = atags[0]\n",
    "\n",
    "tagText = eachTags.text\n",
    "\n",
    "valueList.append(tagText)\n",
    "\n",
    "valueList"
   ]
  },
  {
   "cell_type": "code",
   "execution_count": 104,
   "metadata": {},
   "outputs": [],
   "source": [
    "atags = targetParent.findAll(name = \"a\")\n",
    "\n",
    "for i in range(0, len(atags)):\n",
    "    # 각 태그정보 수집\n",
    "    eachTags = atags[i]\n",
    "    tagText = eachTags.text\n",
    "    \n",
    "    \n",
    "    # 리스트에 태그내 text 정보 append하기\n",
    "    valueList.append(tagText)"
   ]
  },
  {
   "cell_type": "code",
   "execution_count": 105,
   "metadata": {},
   "outputs": [
    {
     "data": {
      "text/html": [
       "<div>\n",
       "<style scoped>\n",
       "    .dataframe tbody tr th:only-of-type {\n",
       "        vertical-align: middle;\n",
       "    }\n",
       "\n",
       "    .dataframe tbody tr th {\n",
       "        vertical-align: top;\n",
       "    }\n",
       "\n",
       "    .dataframe thead th {\n",
       "        text-align: right;\n",
       "    }\n",
       "</style>\n",
       "<table border=\"1\" class=\"dataframe\">\n",
       "  <thead>\n",
       "    <tr style=\"text-align: right;\">\n",
       "      <th></th>\n",
       "      <th>퀴즈타이틀</th>\n",
       "    </tr>\n",
       "  </thead>\n",
       "  <tbody>\n",
       "    <tr>\n",
       "      <th>0</th>\n",
       "      <td>6/13 Spark 심화과정</td>\n",
       "    </tr>\n",
       "    <tr>\n",
       "      <th>1</th>\n",
       "      <td>6/13 Spark 심화과정</td>\n",
       "    </tr>\n",
       "    <tr>\n",
       "      <th>2</th>\n",
       "      <td>6/13 Spark 기본과정</td>\n",
       "    </tr>\n",
       "    <tr>\n",
       "      <th>3</th>\n",
       "      <td>6/18 Spark [MAP_FILTER]</td>\n",
       "    </tr>\n",
       "    <tr>\n",
       "      <th>4</th>\n",
       "      <td>6/18 Spark GroupBy 심화</td>\n",
       "    </tr>\n",
       "    <tr>\n",
       "      <th>5</th>\n",
       "      <td>6/25 Spark RDD 실전 분석</td>\n",
       "    </tr>\n",
       "    <tr>\n",
       "      <th>6</th>\n",
       "      <td>6/27 Spark RDD 실전 분석2</td>\n",
       "    </tr>\n",
       "  </tbody>\n",
       "</table>\n",
       "</div>"
      ],
      "text/plain": [
       "                       퀴즈타이틀\n",
       "0           6/13 Spark 심화과정 \n",
       "1           6/13 Spark 심화과정 \n",
       "2           6/13 Spark 기본과정 \n",
       "3   6/18 Spark [MAP_FILTER] \n",
       "4     6/18 Spark GroupBy 심화 \n",
       "5      6/25 Spark RDD 실전 분석 \n",
       "6     6/27 Spark RDD 실전 분석2 "
      ]
     },
     "execution_count": 105,
     "metadata": {},
     "output_type": "execute_result"
    }
   ],
   "source": [
    "pd.DataFrame( valueList, columns = [\"퀴즈타이틀\"])"
   ]
  },
  {
   "cell_type": "code",
   "execution_count": 126,
   "metadata": {},
   "outputs": [],
   "source": [
    "targeturl = htmlObj.find(name = \"div\",attrs={\"id\":\"id_spark_quiz\"})\n",
    "\n",
    "eacheach = targeturl.find(name = \"a\")\n",
    "\n",
    "List1 = eacheach[0]\n",
    "\n",
    "tagText = List1.attrs[\"href\"]\n",
    "\n",
    "valueList2 = []\n",
    "\n",
    "valueList2.append(tagText)\n",
    "valueList2"
   ]
  },
  {
   "cell_type": "code",
   "execution_count": 170,
   "metadata": {},
   "outputs": [
    {
     "data": {
      "text/plain": [
       "['https://forms.gle/Fw49w9GhWQChDcZm7',\n",
       " 'https://forms.gle/Fw49w9GhWQChDcZm7',\n",
       " 'https://forms.gle/G4TcXm3fKuHLHA6D6',\n",
       " 'https://forms.gle/M8gr1kC2ubA3UDVp8',\n",
       " 'https://forms.gle/h8w5mZ4MNaPLCPbi6',\n",
       " 'https://forms.gle/q5yL6QHfueDLM5w27',\n",
       " 'https://forms.gle/Gxb4y6LfVYiaLu4M7',\n",
       " 'https://forms.gle/Fw49w9GhWQChDcZm7']"
      ]
     },
     "execution_count": 170,
     "metadata": {},
     "output_type": "execute_result"
    }
   ],
   "source": [
    "eachList1 = targeturl.findAll(name = \"a\")\n",
    "\n",
    "for i in range(0,len(eacheach)):\n",
    "    #각 태그 정보 수집하기\n",
    "    List1 = eachList1[i]\n",
    "    tagText2 = List1.attrs[\"href\"]\n",
    "    \n",
    "    #리스트에다가 태그내 attrs 정보 append 하기\n",
    "    valueList2.append(tagText2)\n",
    "valueList2"
   ]
  },
  {
   "cell_type": "code",
   "execution_count": 160,
   "metadata": {},
   "outputs": [],
   "source": [
    "columnName = [\"퀴즈타이틀\" , \"링크정보\"]"
   ]
  },
  {
   "cell_type": "code",
   "execution_count": 161,
   "metadata": {},
   "outputs": [],
   "source": [
    "dfa = pd.DataFrame(zip(valueList,valueList2))"
   ]
  },
  {
   "cell_type": "code",
   "execution_count": 163,
   "metadata": {},
   "outputs": [],
   "source": [
    "dfa.columns = columnName"
   ]
  },
  {
   "cell_type": "code",
   "execution_count": 164,
   "metadata": {},
   "outputs": [
    {
     "data": {
      "text/html": [
       "<div>\n",
       "<style scoped>\n",
       "    .dataframe tbody tr th:only-of-type {\n",
       "        vertical-align: middle;\n",
       "    }\n",
       "\n",
       "    .dataframe tbody tr th {\n",
       "        vertical-align: top;\n",
       "    }\n",
       "\n",
       "    .dataframe thead th {\n",
       "        text-align: right;\n",
       "    }\n",
       "</style>\n",
       "<table border=\"1\" class=\"dataframe\">\n",
       "  <thead>\n",
       "    <tr style=\"text-align: right;\">\n",
       "      <th></th>\n",
       "      <th>퀴즈타이틀</th>\n",
       "      <th>링크정보</th>\n",
       "    </tr>\n",
       "  </thead>\n",
       "  <tbody>\n",
       "    <tr>\n",
       "      <th>0</th>\n",
       "      <td>6/13 Spark 심화과정</td>\n",
       "      <td>https://forms.gle/Fw49w9GhWQChDcZm7</td>\n",
       "    </tr>\n",
       "    <tr>\n",
       "      <th>1</th>\n",
       "      <td>6/13 Spark 심화과정</td>\n",
       "      <td>https://forms.gle/Fw49w9GhWQChDcZm7</td>\n",
       "    </tr>\n",
       "    <tr>\n",
       "      <th>2</th>\n",
       "      <td>6/13 Spark 기본과정</td>\n",
       "      <td>https://forms.gle/G4TcXm3fKuHLHA6D6</td>\n",
       "    </tr>\n",
       "    <tr>\n",
       "      <th>3</th>\n",
       "      <td>6/18 Spark [MAP_FILTER]</td>\n",
       "      <td>https://forms.gle/M8gr1kC2ubA3UDVp8</td>\n",
       "    </tr>\n",
       "    <tr>\n",
       "      <th>4</th>\n",
       "      <td>6/18 Spark GroupBy 심화</td>\n",
       "      <td>https://forms.gle/h8w5mZ4MNaPLCPbi6</td>\n",
       "    </tr>\n",
       "    <tr>\n",
       "      <th>5</th>\n",
       "      <td>6/25 Spark RDD 실전 분석</td>\n",
       "      <td>https://forms.gle/q5yL6QHfueDLM5w27</td>\n",
       "    </tr>\n",
       "    <tr>\n",
       "      <th>6</th>\n",
       "      <td>6/27 Spark RDD 실전 분석2</td>\n",
       "      <td>https://forms.gle/Gxb4y6LfVYiaLu4M7</td>\n",
       "    </tr>\n",
       "  </tbody>\n",
       "</table>\n",
       "</div>"
      ],
      "text/plain": [
       "                       퀴즈타이틀                                 링크정보\n",
       "0           6/13 Spark 심화과정   https://forms.gle/Fw49w9GhWQChDcZm7\n",
       "1           6/13 Spark 심화과정   https://forms.gle/Fw49w9GhWQChDcZm7\n",
       "2           6/13 Spark 기본과정   https://forms.gle/G4TcXm3fKuHLHA6D6\n",
       "3   6/18 Spark [MAP_FILTER]   https://forms.gle/M8gr1kC2ubA3UDVp8\n",
       "4     6/18 Spark GroupBy 심화   https://forms.gle/h8w5mZ4MNaPLCPbi6\n",
       "5      6/25 Spark RDD 실전 분석   https://forms.gle/q5yL6QHfueDLM5w27\n",
       "6     6/27 Spark RDD 실전 분석2   https://forms.gle/Gxb4y6LfVYiaLu4M7"
      ]
     },
     "execution_count": 164,
     "metadata": {},
     "output_type": "execute_result"
    }
   ],
   "source": [
    "dfa"
   ]
  },
  {
   "cell_type": "markdown",
   "metadata": {},
   "source": [
    "# 테이블 row 데이터별로 가지고 오기"
   ]
  },
  {
   "cell_type": "markdown",
   "metadata": {},
   "source": [
    "# 테이블스크랩"
   ]
  },
  {
   "cell_type": "code",
   "execution_count": 339,
   "metadata": {},
   "outputs": [],
   "source": [
    "import requests, bs4\n",
    "import pandas as pd"
   ]
  },
  {
   "cell_type": "code",
   "execution_count": 340,
   "metadata": {},
   "outputs": [],
   "source": [
    "targetUrl = \"http://sparkkorea.com/테스트\"\n",
    "\n",
    "resp = requests.get(url=targetUrl)\n",
    "\n",
    "resp.encoding=\"utf-8\"\n",
    "\n",
    "html = resp.text\n",
    "\n",
    "htmlObj = BeautifulSoup(html, \"html.parser\")"
   ]
  },
  {
   "cell_type": "code",
   "execution_count": 341,
   "metadata": {},
   "outputs": [],
   "source": [
    "tabletag = htmlObj.find(name = \"table\",attrs={\"id\":\"test_table\"})"
   ]
  },
  {
   "cell_type": "code",
   "execution_count": 342,
   "metadata": {},
   "outputs": [],
   "source": [
    "tbodytag = tabletag.find(name=\"tbody\")"
   ]
  },
  {
   "cell_type": "code",
   "execution_count": 351,
   "metadata": {},
   "outputs": [],
   "source": [
    "coulumnList = []\n",
    "rowList = []"
   ]
  },
  {
   "cell_type": "code",
   "execution_count": 352,
   "metadata": {},
   "outputs": [],
   "source": [
    "trs = tbodytag.findAll(name =\"tr\")"
   ]
  },
  {
   "cell_type": "code",
   "execution_count": 353,
   "metadata": {},
   "outputs": [],
   "source": [
    "for i in range(0, len(trs)):\n",
    "    eachtr = trs[i]\n",
    "    tds = eachtr.find_all(\"td\")\n",
    "    \n",
    "    for j in range(0,len(tds)):\n",
    "        eachtd = tds[j]\n",
    "        coulumnList.append(eachtd.text)\n",
    "        \n",
    "    rowList.append(coulumnList)\n",
    "    \n",
    "    coulumnList = []"
   ]
  },
  {
   "cell_type": "code",
   "execution_count": 354,
   "metadata": {},
   "outputs": [
    {
     "data": {
      "text/html": [
       "<div>\n",
       "<style scoped>\n",
       "    .dataframe tbody tr th:only-of-type {\n",
       "        vertical-align: middle;\n",
       "    }\n",
       "\n",
       "    .dataframe tbody tr th {\n",
       "        vertical-align: top;\n",
       "    }\n",
       "\n",
       "    .dataframe thead th {\n",
       "        text-align: right;\n",
       "    }\n",
       "</style>\n",
       "<table border=\"1\" class=\"dataframe\">\n",
       "  <thead>\n",
       "    <tr style=\"text-align: right;\">\n",
       "      <th></th>\n",
       "      <th>0</th>\n",
       "      <th>1</th>\n",
       "    </tr>\n",
       "  </thead>\n",
       "  <tbody>\n",
       "    <tr>\n",
       "      <th>0</th>\n",
       "      <td>101</td>\n",
       "      <td>김효관</td>\n",
       "    </tr>\n",
       "    <tr>\n",
       "      <th>1</th>\n",
       "      <td>102</td>\n",
       "      <td>이순신</td>\n",
       "    </tr>\n",
       "    <tr>\n",
       "      <th>2</th>\n",
       "      <td>103</td>\n",
       "      <td>김어진</td>\n",
       "    </tr>\n",
       "  </tbody>\n",
       "</table>\n",
       "</div>"
      ],
      "text/plain": [
       "     0    1\n",
       "0  101  김효관\n",
       "1  102  이순신\n",
       "2  103  김어진"
      ]
     },
     "execution_count": 354,
     "metadata": {},
     "output_type": "execute_result"
    }
   ],
   "source": [
    "pd.DataFrame(rowList)"
   ]
  },
  {
   "cell_type": "markdown",
   "metadata": {},
   "source": [
    "# * ssg : 멀티밤 검색정보 크롤링"
   ]
  },
  {
   "cell_type": "code",
   "execution_count": 1114,
   "metadata": {
    "collapsed": true,
    "jupyter": {
     "outputs_hidden": true
    }
   },
   "outputs": [
    {
     "data": {
      "text/html": [
       "<div>\n",
       "<style scoped>\n",
       "    .dataframe tbody tr th:only-of-type {\n",
       "        vertical-align: middle;\n",
       "    }\n",
       "\n",
       "    .dataframe tbody tr th {\n",
       "        vertical-align: top;\n",
       "    }\n",
       "\n",
       "    .dataframe thead th {\n",
       "        text-align: right;\n",
       "    }\n",
       "</style>\n",
       "<table border=\"1\" class=\"dataframe\">\n",
       "  <thead>\n",
       "    <tr style=\"text-align: right;\">\n",
       "      <th></th>\n",
       "      <th>브랜드명</th>\n",
       "      <th>제품명</th>\n",
       "      <th>가격</th>\n",
       "    </tr>\n",
       "  </thead>\n",
       "  <tbody>\n",
       "    <tr>\n",
       "      <th>0</th>\n",
       "      <td>위드샨</td>\n",
       "      <td>아보카도 네일&amp;큐티클 오일</td>\n",
       "      <td>(￦4,000)</td>\n",
       "    </tr>\n",
       "    <tr>\n",
       "      <th>1</th>\n",
       "      <td>포포크림 파파야골드</td>\n",
       "      <td>포포크림 25g  [99%자연유래 꿀보습 멀티밤]</td>\n",
       "      <td>(￦8,213)</td>\n",
       "    </tr>\n",
       "    <tr>\n",
       "      <th>2</th>\n",
       "      <td>바렌(BAREN)</td>\n",
       "      <td>바렌 네일&amp;큐티클오일펜 리페어 에센스</td>\n",
       "      <td>(￦6,675)</td>\n",
       "    </tr>\n",
       "    <tr>\n",
       "      <th>3</th>\n",
       "      <td>록시땅</td>\n",
       "      <td>시어 버터 네일 앤 큐티클 너리싱 오일 7.5ml</td>\n",
       "      <td>(￦22,800)</td>\n",
       "    </tr>\n",
       "    <tr>\n",
       "      <th>4</th>\n",
       "      <td>1300K</td>\n",
       "      <td>뷰티끄 큐티클오일</td>\n",
       "      <td>(￦5,900)</td>\n",
       "    </tr>\n",
       "    <tr>\n",
       "      <th>...</th>\n",
       "      <td>...</td>\n",
       "      <td>...</td>\n",
       "      <td>...</td>\n",
       "    </tr>\n",
       "    <tr>\n",
       "      <th>75</th>\n",
       "      <td>라라핑거</td>\n",
       "      <td>럭셔리(탑코트/큐티클오일/핸드&amp;네일세럼/골드/실버/네이비) 6ml 6종 SET</td>\n",
       "      <td>(￦26,010)</td>\n",
       "    </tr>\n",
       "    <tr>\n",
       "      <th>76</th>\n",
       "      <td>아트박스</td>\n",
       "      <td>아트박스/베르니아 옹글스 오일 인 큐티클 푸셔 펜</td>\n",
       "      <td>(￦6,720)</td>\n",
       "    </tr>\n",
       "    <tr>\n",
       "      <th>77</th>\n",
       "      <td>라라핑거</td>\n",
       "      <td>크러쉬(탑코트/큐티클오일/핸드&amp;네일세럼/레드/버건디/네이비) 6ml 6종 SET</td>\n",
       "      <td>(￦26,010)</td>\n",
       "    </tr>\n",
       "    <tr>\n",
       "      <th>78</th>\n",
       "      <td>네일나라</td>\n",
       "      <td>Caren cuticle oil 카렌큐티클오일(16oz)덕용 (S2496446)</td>\n",
       "      <td>(￦30,000)</td>\n",
       "    </tr>\n",
       "    <tr>\n",
       "      <th>79</th>\n",
       "      <td>라라핑거</td>\n",
       "      <td>2nd 어린이 유아 건강한 수성매니큐어 네일 큐티클오일6ml</td>\n",
       "      <td>(￦2,794)</td>\n",
       "    </tr>\n",
       "  </tbody>\n",
       "</table>\n",
       "<p>80 rows × 3 columns</p>\n",
       "</div>"
      ],
      "text/plain": [
       "          브랜드명                                           제품명         가격\n",
       "0          위드샨                                아보카도 네일&큐티클 오일   (￦4,000)\n",
       "1   포포크림 파파야골드                   포포크림 25g  [99%자연유래 꿀보습 멀티밤]   (￦8,213)\n",
       "2    바렌(BAREN)                          바렌 네일&큐티클오일펜 리페어 에센스   (￦6,675)\n",
       "3          록시땅                   시어 버터 네일 앤 큐티클 너리싱 오일 7.5ml  (￦22,800)\n",
       "4        1300K                                     뷰티끄 큐티클오일   (￦5,900)\n",
       "..         ...                                           ...        ...\n",
       "75        라라핑거   럭셔리(탑코트/큐티클오일/핸드&네일세럼/골드/실버/네이비) 6ml 6종 SET  (￦26,010)\n",
       "76        아트박스                   아트박스/베르니아 옹글스 오일 인 큐티클 푸셔 펜   (￦6,720)\n",
       "77        라라핑거  크러쉬(탑코트/큐티클오일/핸드&네일세럼/레드/버건디/네이비) 6ml 6종 SET  (￦26,010)\n",
       "78        네일나라  Caren cuticle oil 카렌큐티클오일(16oz)덕용 (S2496446)  (￦30,000)\n",
       "79        라라핑거             2nd 어린이 유아 건강한 수성매니큐어 네일 큐티클오일6ml   (￦2,794)\n",
       "\n",
       "[80 rows x 3 columns]"
      ]
     },
     "execution_count": 1114,
     "metadata": {},
     "output_type": "execute_result"
    }
   ],
   "source": [
    "## 1. 라이브러리 정의\n",
    "\n",
    "from bs4 import BeautifulSoup\n",
    "import requests, bs4\n",
    "import pandas as pd\n",
    "\n",
    "## 2. 데이터 불러오기\n",
    "\n",
    "targetUrl = \"http://www.ssg.com/search.ssg?target=all&query=%ED%81%90%ED%8B%B0%ED%81%B4%EC%98%A4%EC%9D%BC\"\n",
    "resp = requests.get(url=targetUrl)\n",
    "headers = {'User-Agent': 'Mozilla/5.0 (Macintosh; Intel Mac OS X 10.14; rv:71.0) Gecko/20100101 Firefox/71.0'}\n",
    "resp=requests.get(targetUrl,headers=headers)\n",
    "resp.encoding=\"utf-8\"\n",
    "html = resp.text\n",
    "htmlObj = BeautifulSoup(html, \"html.parser\")\n",
    "\n",
    "## 3. 제품명 데이터 찾기\n",
    "\n",
    "allTable = htmlObj.find(name = \"ul\",attrs={\"class\":\"cunit_thmb_lst cunit_thmb_lst4 cunit_thmb_w1000\"})\n",
    "productTable = allTable.findAll(name = \"em\",attrs={\"class\":\"tx_en\"})\n",
    "\n",
    "productNameTable = []\n",
    "\n",
    "## 제품명 테이블 생성\n",
    "for i in range(0,len(productTable)):\n",
    "    eachData = productTable[i]\n",
    "    productName = eachData.text\n",
    "    productNameTable.append(productName)\n",
    "\n",
    "## 3-1. 가격 데이터 찾기\n",
    "\n",
    "priceTable = allTable.find(name = \"div\",attrs={\"class\":\"opt_price\"})\n",
    "priceData = allTable.findAll(name = \"div\",attrs={\"class\":\"ssg_price_ko show_gl hide_ko\"})\n",
    "\n",
    "priceList = []\n",
    "\n",
    "for i in range(0,len(priceData)):\n",
    "    eachdata = priceData[i]\n",
    "    price = eachdata.text\n",
    "    priceList.append(price)\n",
    "\n",
    "## 3-2. 브랜드명 데이터 찾기\n",
    "\n",
    "allProductTable = allTable.findAll(name = \"div\",attrs={\"class\":\"title\"})\n",
    "\n",
    "nameList = []\n",
    "\n",
    "## split을 이용하여 브랜드명의 테이블 생성\n",
    "for i in range(0,len(allProductTable)):\n",
    "    a = allProductTable[i].text\n",
    "    b = a.split('\\n\\n')\n",
    "    c = b[1].split('\\n')\n",
    "    d = c[0].split(\",\")\n",
    "    title = c[0]\n",
    "    nameList.append(title)\n",
    "\n",
    "## 4. 데이터테이블 zip하기 / 컬럼명 지정하기\n",
    "\n",
    "columnName = [\"브랜드명\",\"제품명\",\"가격\"]\n",
    "\n",
    "pd.DataFrame(zip(nameList,productNameTable,priceList), columns = columnName)"
   ]
  },
  {
   "cell_type": "markdown",
   "metadata": {},
   "source": [
    "## * 다이소몰[베트남쌀국수]"
   ]
  },
  {
   "cell_type": "code",
   "execution_count": 533,
   "metadata": {
    "collapsed": true,
    "jupyter": {
     "outputs_hidden": true
    }
   },
   "outputs": [
    {
     "data": {
      "text/html": [
       "<div>\n",
       "<style scoped>\n",
       "    .dataframe tbody tr th:only-of-type {\n",
       "        vertical-align: middle;\n",
       "    }\n",
       "\n",
       "    .dataframe tbody tr th {\n",
       "        vertical-align: top;\n",
       "    }\n",
       "\n",
       "    .dataframe thead th {\n",
       "        text-align: right;\n",
       "    }\n",
       "</style>\n",
       "<table border=\"1\" class=\"dataframe\">\n",
       "  <thead>\n",
       "    <tr style=\"text-align: right;\">\n",
       "      <th></th>\n",
       "      <th>제품정보</th>\n",
       "      <th>가격정보</th>\n",
       "    </tr>\n",
       "  </thead>\n",
       "  <tbody>\n",
       "    <tr>\n",
       "      <th>0</th>\n",
       "      <td>(대림) 베트남 쌀국수풍 어묵탕360g x24개</td>\n",
       "      <td>61,500원</td>\n",
       "    </tr>\n",
       "    <tr>\n",
       "      <th>1</th>\n",
       "      <td>(대림) 베트남 쌀국수풍 어묵탕360g x12개</td>\n",
       "      <td>33,100원</td>\n",
       "    </tr>\n",
       "    <tr>\n",
       "      <th>2</th>\n",
       "      <td>현지에서 먹은 바로 그 맛 베트남 쌀국수 4EA번들</td>\n",
       "      <td>2,680원</td>\n",
       "    </tr>\n",
       "    <tr>\n",
       "      <th>3</th>\n",
       "      <td>nk821-멀티아크릴액자_베트남쌀국수(4단대형)</td>\n",
       "      <td>74,000원</td>\n",
       "    </tr>\n",
       "    <tr>\n",
       "      <th>4</th>\n",
       "      <td>[오뚜기] 컵누들 베트남 쌀국수 컵 (47g) x 15</td>\n",
       "      <td>19,900원</td>\n",
       "    </tr>\n",
       "    <tr>\n",
       "      <th>5</th>\n",
       "      <td>오뚜기 컵누들 베트남쌀국수 용기 88.5g x 12개(1박스)</td>\n",
       "      <td>16,610원</td>\n",
       "    </tr>\n",
       "    <tr>\n",
       "      <th>6</th>\n",
       "      <td>(1900760) 컵라면 베트남 쌀국수 1박스</td>\n",
       "      <td>17,600원</td>\n",
       "    </tr>\n",
       "    <tr>\n",
       "      <th>7</th>\n",
       "      <td>(청정원) 베트남쌀국수 맵고진한소고기맛75.4g x12개</td>\n",
       "      <td>25,900원</td>\n",
       "    </tr>\n",
       "    <tr>\n",
       "      <th>8</th>\n",
       "      <td>(청정원) 베트남쌀국수 소고기맛75.4g x12개</td>\n",
       "      <td>25,900원</td>\n",
       "    </tr>\n",
       "    <tr>\n",
       "      <th>9</th>\n",
       "      <td>(청정원) 베트남쌀국수 맵고진한소고기맛75.4g x6개</td>\n",
       "      <td>14,900원</td>\n",
       "    </tr>\n",
       "    <tr>\n",
       "      <th>10</th>\n",
       "      <td>(청정원) 베트남쌀국수 소고기맛75.4g x6개</td>\n",
       "      <td>14,900원</td>\n",
       "    </tr>\n",
       "    <tr>\n",
       "      <th>11</th>\n",
       "      <td>(롯데) 쉐푸드 베트남쌀국수297g x4개</td>\n",
       "      <td>37,400원</td>\n",
       "    </tr>\n",
       "    <tr>\n",
       "      <th>12</th>\n",
       "      <td>비폰 쌀국수 치킨향 30입/ 베트남쌀국수</td>\n",
       "      <td>19,900원</td>\n",
       "    </tr>\n",
       "    <tr>\n",
       "      <th>13</th>\n",
       "      <td>몬 분짜소스 295ml 베트남식 소바소스</td>\n",
       "      <td>4,100원</td>\n",
       "    </tr>\n",
       "    <tr>\n",
       "      <th>14</th>\n",
       "      <td>베트남식 쌀국수 장국 220g</td>\n",
       "      <td>3,430원</td>\n",
       "    </tr>\n",
       "    <tr>\n",
       "      <th>15</th>\n",
       "      <td>베트남 쌀국수 라면 비폰 포가 PHO GA 60g 봉지라면</td>\n",
       "      <td>750원</td>\n",
       "    </tr>\n",
       "    <tr>\n",
       "      <th>16</th>\n",
       "      <td>AHG베트남쌀국수소스50g</td>\n",
       "      <td>3,300원</td>\n",
       "    </tr>\n",
       "    <tr>\n",
       "      <th>17</th>\n",
       "      <td>베트남 쌀국수 라면 비폰 포보 PHO BO 60gX30개/1Box</td>\n",
       "      <td>18,500원</td>\n",
       "    </tr>\n",
       "    <tr>\n",
       "      <th>18</th>\n",
       "      <td>베트남 쌀국수 라면 비폰 포보 PHO BO 60g 봉지라면</td>\n",
       "      <td>750원</td>\n",
       "    </tr>\n",
       "    <tr>\n",
       "      <th>19</th>\n",
       "      <td>[HIMORN]베트남식 쌀국수 장국 220g</td>\n",
       "      <td>3,900원</td>\n",
       "    </tr>\n",
       "    <tr>\n",
       "      <th>20</th>\n",
       "      <td>오라이시 후티우 남방 71gX24개 베트남 즉석 쌀국수</td>\n",
       "      <td>26,700원</td>\n",
       "    </tr>\n",
       "    <tr>\n",
       "      <th>21</th>\n",
       "      <td>베트남 쌀국수 라면 비폰 포가 PHO GA 60gX30개/Box</td>\n",
       "      <td>21,000원</td>\n",
       "    </tr>\n",
       "    <tr>\n",
       "      <th>22</th>\n",
       "      <td>포가 수아 치킨 플레이버 70g 베트남 쌀국수 봉지라면</td>\n",
       "      <td>1,090원</td>\n",
       "    </tr>\n",
       "    <tr>\n",
       "      <th>23</th>\n",
       "      <td>오라이시 후티우 남방 71g 베트남 인스턴트 쌀국수</td>\n",
       "      <td>1,100원</td>\n",
       "    </tr>\n",
       "    <tr>\n",
       "      <th>24</th>\n",
       "      <td>tc410-아크릴액자_베트남요리</td>\n",
       "      <td>32,000원</td>\n",
       "    </tr>\n",
       "    <tr>\n",
       "      <th>25</th>\n",
       "      <td>비폰 치킨향 쌀국수 60g</td>\n",
       "      <td>650원</td>\n",
       "    </tr>\n",
       "    <tr>\n",
       "      <th>26</th>\n",
       "      <td>NPE 먹는 쌀 빨대 95+5개입 먹을수있는 빨대</td>\n",
       "      <td>9,500원</td>\n",
       "    </tr>\n",
       "    <tr>\n",
       "      <th>27</th>\n",
       "      <td>사포코 버미셀리 쌀국수 300g</td>\n",
       "      <td>2,250원</td>\n",
       "    </tr>\n",
       "    <tr>\n",
       "      <th>28</th>\n",
       "      <td>오라이시 포코 쌀국수 3mm 500g</td>\n",
       "      <td>3,200원</td>\n",
       "    </tr>\n",
       "    <tr>\n",
       "      <th>29</th>\n",
       "      <td>비치치 후티우코 쌀국수 2mm 500g</td>\n",
       "      <td>3,200원</td>\n",
       "    </tr>\n",
       "    <tr>\n",
       "      <th>30</th>\n",
       "      <td>비폰 후티우코 쌀국수 2mm 500g</td>\n",
       "      <td>3,200원</td>\n",
       "    </tr>\n",
       "    <tr>\n",
       "      <th>31</th>\n",
       "      <td>비폰 반포코 쌀국수 4mm 500g</td>\n",
       "      <td>3,200원</td>\n",
       "    </tr>\n",
       "    <tr>\n",
       "      <th>32</th>\n",
       "      <td>장미표 월남쌈 반다넴 버미셀리 모음 라이스페이퍼</td>\n",
       "      <td>2,450원</td>\n",
       "    </tr>\n",
       "    <tr>\n",
       "      <th>33</th>\n",
       "      <td>장미표 버미셀리 쌀국수 300g</td>\n",
       "      <td>2,700원</td>\n",
       "    </tr>\n",
       "    <tr>\n",
       "      <th>34</th>\n",
       "      <td>충격흡수 범퍼 식객케이스(베가아이언2)</td>\n",
       "      <td>24,800원</td>\n",
       "    </tr>\n",
       "    <tr>\n",
       "      <th>35</th>\n",
       "      <td>충격흡수 범퍼 식객케이스(갤럭시노트2)</td>\n",
       "      <td>24,800원</td>\n",
       "    </tr>\n",
       "    <tr>\n",
       "      <th>36</th>\n",
       "      <td>충격흡수 범퍼 식객케이스(갤럭시S5)</td>\n",
       "      <td>24,800원</td>\n",
       "    </tr>\n",
       "    <tr>\n",
       "      <th>37</th>\n",
       "      <td>충격흡수 범퍼 식객케이스(갤럭시S4)</td>\n",
       "      <td>24,800원</td>\n",
       "    </tr>\n",
       "    <tr>\n",
       "      <th>38</th>\n",
       "      <td>충격흡수 범퍼 식객케이스(갤럭시노트3)</td>\n",
       "      <td>24,800원</td>\n",
       "    </tr>\n",
       "    <tr>\n",
       "      <th>39</th>\n",
       "      <td>충격흡수 범퍼 식객케이스(G3)</td>\n",
       "      <td>24,800원</td>\n",
       "    </tr>\n",
       "  </tbody>\n",
       "</table>\n",
       "</div>"
      ],
      "text/plain": [
       "                                    제품정보     가격정보\n",
       "0             (대림) 베트남 쌀국수풍 어묵탕360g x24개  61,500원\n",
       "1             (대림) 베트남 쌀국수풍 어묵탕360g x12개  33,100원\n",
       "2           현지에서 먹은 바로 그 맛 베트남 쌀국수 4EA번들   2,680원\n",
       "3             nk821-멀티아크릴액자_베트남쌀국수(4단대형)  74,000원\n",
       "4         [오뚜기] 컵누들 베트남 쌀국수 컵 (47g) x 15  19,900원\n",
       "5     오뚜기 컵누들 베트남쌀국수 용기 88.5g x 12개(1박스)  16,610원\n",
       "6              (1900760) 컵라면 베트남 쌀국수 1박스  17,600원\n",
       "7        (청정원) 베트남쌀국수 맵고진한소고기맛75.4g x12개  25,900원\n",
       "8            (청정원) 베트남쌀국수 소고기맛75.4g x12개  25,900원\n",
       "9         (청정원) 베트남쌀국수 맵고진한소고기맛75.4g x6개  14,900원\n",
       "10            (청정원) 베트남쌀국수 소고기맛75.4g x6개  14,900원\n",
       "11               (롯데) 쉐푸드 베트남쌀국수297g x4개  37,400원\n",
       "12                비폰 쌀국수 치킨향 30입/ 베트남쌀국수  19,900원\n",
       "13                몬 분짜소스 295ml 베트남식 소바소스   4,100원\n",
       "14                      베트남식 쌀국수 장국 220g   3,430원\n",
       "15      베트남 쌀국수 라면 비폰 포가 PHO GA 60g 봉지라면     750원\n",
       "16                        AHG베트남쌀국수소스50g   3,300원\n",
       "17  베트남 쌀국수 라면 비폰 포보 PHO BO 60gX30개/1Box  18,500원\n",
       "18      베트남 쌀국수 라면 비폰 포보 PHO BO 60g 봉지라면     750원\n",
       "19              [HIMORN]베트남식 쌀국수 장국 220g   3,900원\n",
       "20        오라이시 후티우 남방 71gX24개 베트남 즉석 쌀국수  26,700원\n",
       "21   베트남 쌀국수 라면 비폰 포가 PHO GA 60gX30개/Box  21,000원\n",
       "22        포가 수아 치킨 플레이버 70g 베트남 쌀국수 봉지라면   1,090원\n",
       "23          오라이시 후티우 남방 71g 베트남 인스턴트 쌀국수   1,100원\n",
       "24                     tc410-아크릴액자_베트남요리  32,000원\n",
       "25                        비폰 치킨향 쌀국수 60g     650원\n",
       "26           NPE 먹는 쌀 빨대 95+5개입 먹을수있는 빨대   9,500원\n",
       "27                     사포코 버미셀리 쌀국수 300g   2,250원\n",
       "28                  오라이시 포코 쌀국수 3mm 500g   3,200원\n",
       "29                 비치치 후티우코 쌀국수 2mm 500g   3,200원\n",
       "30                  비폰 후티우코 쌀국수 2mm 500g   3,200원\n",
       "31                   비폰 반포코 쌀국수 4mm 500g   3,200원\n",
       "32            장미표 월남쌈 반다넴 버미셀리 모음 라이스페이퍼   2,450원\n",
       "33                     장미표 버미셀리 쌀국수 300g   2,700원\n",
       "34                 충격흡수 범퍼 식객케이스(베가아이언2)  24,800원\n",
       "35                 충격흡수 범퍼 식객케이스(갤럭시노트2)  24,800원\n",
       "36                  충격흡수 범퍼 식객케이스(갤럭시S5)  24,800원\n",
       "37                  충격흡수 범퍼 식객케이스(갤럭시S4)  24,800원\n",
       "38                 충격흡수 범퍼 식객케이스(갤럭시노트3)  24,800원\n",
       "39                     충격흡수 범퍼 식객케이스(G3)  24,800원"
      ]
     },
     "execution_count": 533,
     "metadata": {},
     "output_type": "execute_result"
    }
   ],
   "source": [
    "# 1. 라이브러리 정의\n",
    "\n",
    "import pandas as pd\n",
    "from bs4 import BeautifulSoup\n",
    "import requests\n",
    "\n",
    "# 2. 데이터 불러오기\n",
    "targetUrl =  \"https://www.daisomall.co.kr/shop/search.php?search_text=%EB%B2%A0%ED%8A%B8%EB%82%A8%EC%8C%80%EA%B5%AD%EC%88%98&x=0&y=0\"\n",
    "\n",
    "resp = requests.get(url=targetUrl)\n",
    "\n",
    "resp.encoding=\"utf-8\"\n",
    "\n",
    "html = resp.text\n",
    "\n",
    "htmlObj = BeautifulSoup(html, \"html.parser\")\n",
    "\n",
    "\n",
    "# 3. 배열 및 컬럼테이블 생성\n",
    "nameList = []\n",
    "priceList = []\n",
    "columnName = [\"제품정보\",\"가격정보\"]\n",
    "\n",
    "# 4. 데이터 불러오기\n",
    "## 1) 모든데이터\n",
    "allData = htmlObj.find(name=\"ul\",attrs={\"class\":\"search_goods_list_box float01\"})\n",
    "## 2) 제품데이터\n",
    "productData = allData.findAll(name=\"a\",attrs={\"class\",\"block oh\"})\n",
    "## 3) 가격데이터\n",
    "priceData = allData.findAll(name=\"strong\",attrs={\"class\":\"color_2a\"})\n",
    "\n",
    "# 5. 반복문 실행(제품)\n",
    "for i in range(0,len(productData)):\n",
    "    productName = productData[i].text\n",
    "    allProductName = productName.text\n",
    "    nameList.append(allProductName)\n",
    "\n",
    "## 반복문 실행(가격)\n",
    "for j in range(0,len(priceData)):\n",
    "    price = priceData[j]\n",
    "    allPrice = price.text\n",
    "    priceList.append(allPrice)\n",
    "\n",
    "# 6. 데이터 완성\n",
    "pd.DataFrame(zip(nameList,priceList),columns=columnName)"
   ]
  },
  {
   "cell_type": "markdown",
   "metadata": {},
   "source": [
    "## *Holidays and Observances in South Korea in 2021\n",
    "# CASE 1) 컬럼별 리스트=>zip하여 총리스트생성"
   ]
  },
  {
   "cell_type": "code",
   "execution_count": 1111,
   "metadata": {},
   "outputs": [],
   "source": [
    "## 1. 라이브러리 정의\n",
    "\n",
    "import pandas as pd\n",
    "from bs4 import BeautifulSoup\n",
    "import requests\n",
    "\n",
    "## 2. 데이터 불러오기\n",
    "\n",
    "targetUrl =  \"https://www.timeanddate.com/holidays/south-korea/\"\n",
    "resp = requests.get(url=targetUrl)\n",
    "resp.encoding=\"utf-8\"\n",
    "html = resp.text\n",
    "htmlObj = BeautifulSoup(html, \"html.parser\")\n",
    "\n",
    "## 3. 데이터 분류\n",
    "\n",
    "## 모든데이터\n",
    "alldata = htmlObj.find(name=\"tbody\")\n",
    "allinformation = htmlObj.findAll(name=\"tbody\")\n",
    "## 날짜\n",
    "date = alldata.findAll(name=\"th\",attrs={\"class\":\"nw\"})\n",
    "## 요일\n",
    "dayweek = alldata.findAll(name=\"td\",attrs={\"class\":\"nw\"})\n",
    "## 기념일\n",
    "nameOfDay = alldata.findAll(name=\"a\")\n",
    "## 분류\n",
    "dataOfType = htmlObj.findAll(name=\"td\")\n",
    "\n",
    "## 4. 반복문 실행 후 배열 생성\n",
    "\n",
    "## date, dayweek,nameoftheDay 배열 생성\n",
    "dateList = []\n",
    "dayweekList = [ㅡ]\n",
    "nameOfDayList = []\n",
    "\n",
    "for i in range(0,len(date)):\n",
    "    dateData = date[i].text\n",
    "    dayweekData = dayweek[i].text\n",
    "    nameOfDayData = nameOfDay[i].text\n",
    "\n",
    "    dateList.append(dateData)\n",
    "    dayweekList.append(dayweekData)\n",
    "    nameOfDayList.append(nameOfDayData)\n",
    "\n",
    "## 인덱스가 다른 기념 Type데이터 배열 생성\n",
    "dataOfTypeList = []\n",
    "\n",
    "for i in range(2,len(dataOfType),+3):\n",
    "    dataOfType1 = dataOfType[i]\n",
    "    dataOfTypeData = dataOfType1.text\n",
    "    dataOfTypeList.append(dataOfTypeData)\n",
    "\n",
    "## 컬럼배열 생성 후 전체 파일에 넣어주기\n",
    "columnName = [\"date\",\"dayweek\",\"nameOftheDay\",\"Type\"]\n",
    "\n",
    "## 5. 최종 데이터 생성\n",
    "\n",
    "pd.DataFrame(zip(dateList,dayweekList,nameOfDayList,dataOfTypeList),columns=columnName)"
   ]
  },
  {
   "cell_type": "markdown",
   "metadata": {},
   "source": [
    "## *Holidays and Observances in South Korea in 2021\n",
    "# CASE 2) 전체 rowList로 배열 생성하기"
   ]
  },
  {
   "cell_type": "code",
   "execution_count": 1104,
   "metadata": {},
   "outputs": [],
   "source": [
    "# 1. 라이브러리 정의\n",
    "import pandas as pd\n",
    "from bs4 import BeautifulSoup\n",
    "import requests\n",
    "\n",
    "\n",
    "## 2. 데이터 불러오기\n",
    "targetUrl =  \"https://www.timeanddate.com/holidays/south-korea/\"\n",
    "resp = requests.get(url=targetUrl)\n",
    "resp.encoding=\"utf-8\"\n",
    "html = resp.text\n",
    "htmlObj = BeautifulSoup(html, \"html.parser\")\n",
    "\n",
    "## 3. 데이터 분류하기\n",
    "alldata = htmlObj.find(name=\"tbody\")\n",
    "\n",
    "\n",
    "## 4. 반복문 실행 후 데이터 생성\n",
    "columnNameList = [\"date\",\"dayoftheweek\",\"Name\",\"Type\"]\n",
    "columnList = []\n",
    "rowList = []\n",
    "\n",
    "trs = alldata.findAll(name=\"tr\")\n",
    "\n",
    "for i in range(0,len(trs)):\n",
    "    eachtr = trs[i]\n",
    "    exeption = eachtr.attrs[\"id\"]\n",
    "    if exeption[0:3]==\"hol\":\n",
    "        continue  \n",
    "    \n",
    "    tds = eachtr.findAll(\"td\")\n",
    "    ths = eachtr.findAll(name=\"th\",attrs={\"class\":\"nw\"})\n",
    "\n",
    "    for j in range(0,len(ths)):\n",
    "        eachth = ths[j]\n",
    "        eachths = eachth.text\n",
    "        columnList.append(eachths)\n",
    "        \n",
    "        for k in range(0,len(tds)):\n",
    "            eachtd = tds[k]\n",
    "            eachtds = eachtd.text\n",
    "            columnList.append(eachtds)\n",
    "\n",
    "    rowList.append(columnList)\n",
    "    columnList = []"
   ]
  },
  {
   "cell_type": "code",
   "execution_count": 1110,
   "metadata": {},
   "outputs": [
    {
     "data": {
      "text/html": [
       "<div>\n",
       "<style scoped>\n",
       "    .dataframe tbody tr th:only-of-type {\n",
       "        vertical-align: middle;\n",
       "    }\n",
       "\n",
       "    .dataframe tbody tr th {\n",
       "        vertical-align: top;\n",
       "    }\n",
       "\n",
       "    .dataframe thead th {\n",
       "        text-align: right;\n",
       "    }\n",
       "</style>\n",
       "<table border=\"1\" class=\"dataframe\">\n",
       "  <thead>\n",
       "    <tr style=\"text-align: right;\">\n",
       "      <th></th>\n",
       "      <th>date</th>\n",
       "      <th>dayoftheweek</th>\n",
       "      <th>Name</th>\n",
       "      <th>Type</th>\n",
       "    </tr>\n",
       "  </thead>\n",
       "  <tbody>\n",
       "    <tr>\n",
       "      <th>0</th>\n",
       "      <td>1월 1일</td>\n",
       "      <td>금요일</td>\n",
       "      <td>New Year's Day</td>\n",
       "      <td>Public Holiday</td>\n",
       "    </tr>\n",
       "    <tr>\n",
       "      <th>1</th>\n",
       "      <td>2월 11일</td>\n",
       "      <td>목요일</td>\n",
       "      <td>Seollal Holiday</td>\n",
       "      <td>Public Holiday</td>\n",
       "    </tr>\n",
       "    <tr>\n",
       "      <th>2</th>\n",
       "      <td>2월 12일</td>\n",
       "      <td>금요일</td>\n",
       "      <td>Seollal</td>\n",
       "      <td>Public Holiday</td>\n",
       "    </tr>\n",
       "    <tr>\n",
       "      <th>3</th>\n",
       "      <td>2월 13일</td>\n",
       "      <td>토요일</td>\n",
       "      <td>Seollal Holiday</td>\n",
       "      <td>Public Holiday</td>\n",
       "    </tr>\n",
       "    <tr>\n",
       "      <th>4</th>\n",
       "      <td>2월 14일</td>\n",
       "      <td>일요일</td>\n",
       "      <td>Valentine's Day</td>\n",
       "      <td>Observance</td>\n",
       "    </tr>\n",
       "    <tr>\n",
       "      <th>5</th>\n",
       "      <td>3월 1일</td>\n",
       "      <td>월요일</td>\n",
       "      <td>Independence Movement Day</td>\n",
       "      <td>National holiday</td>\n",
       "    </tr>\n",
       "    <tr>\n",
       "      <th>6</th>\n",
       "      <td>3월 20일</td>\n",
       "      <td>토요일</td>\n",
       "      <td>March Equinox</td>\n",
       "      <td>Season</td>\n",
       "    </tr>\n",
       "    <tr>\n",
       "      <th>7</th>\n",
       "      <td>4월 5일</td>\n",
       "      <td>월요일</td>\n",
       "      <td>Arbor Day</td>\n",
       "      <td>Observance</td>\n",
       "    </tr>\n",
       "    <tr>\n",
       "      <th>8</th>\n",
       "      <td>5월 1일</td>\n",
       "      <td>토요일</td>\n",
       "      <td>Labor Day</td>\n",
       "      <td>Bank Holiday</td>\n",
       "    </tr>\n",
       "    <tr>\n",
       "      <th>9</th>\n",
       "      <td>5월 5일</td>\n",
       "      <td>수요일</td>\n",
       "      <td>Children's Day</td>\n",
       "      <td>Public Holiday</td>\n",
       "    </tr>\n",
       "    <tr>\n",
       "      <th>10</th>\n",
       "      <td>5월 8일</td>\n",
       "      <td>토요일</td>\n",
       "      <td>Parents' Day</td>\n",
       "      <td>Observance</td>\n",
       "    </tr>\n",
       "    <tr>\n",
       "      <th>11</th>\n",
       "      <td>5월 15일</td>\n",
       "      <td>토요일</td>\n",
       "      <td>Teacher's Day</td>\n",
       "      <td>Observance</td>\n",
       "    </tr>\n",
       "    <tr>\n",
       "      <th>12</th>\n",
       "      <td>5월 19일</td>\n",
       "      <td>수요일</td>\n",
       "      <td>Buddha's Birthday</td>\n",
       "      <td>Public Holiday</td>\n",
       "    </tr>\n",
       "    <tr>\n",
       "      <th>13</th>\n",
       "      <td>6월 6일</td>\n",
       "      <td>일요일</td>\n",
       "      <td>Memorial Day</td>\n",
       "      <td>Public Holiday</td>\n",
       "    </tr>\n",
       "    <tr>\n",
       "      <th>14</th>\n",
       "      <td>6월 21일</td>\n",
       "      <td>월요일</td>\n",
       "      <td>June Solstice</td>\n",
       "      <td>Season</td>\n",
       "    </tr>\n",
       "    <tr>\n",
       "      <th>15</th>\n",
       "      <td>7월 17일</td>\n",
       "      <td>토요일</td>\n",
       "      <td>Constitution Day</td>\n",
       "      <td>Observance</td>\n",
       "    </tr>\n",
       "    <tr>\n",
       "      <th>16</th>\n",
       "      <td>8월 15일</td>\n",
       "      <td>일요일</td>\n",
       "      <td>Liberation Day</td>\n",
       "      <td>National holiday</td>\n",
       "    </tr>\n",
       "    <tr>\n",
       "      <th>17</th>\n",
       "      <td>9월 20일</td>\n",
       "      <td>월요일</td>\n",
       "      <td>Chuseok Holiday</td>\n",
       "      <td>Public Holiday</td>\n",
       "    </tr>\n",
       "    <tr>\n",
       "      <th>18</th>\n",
       "      <td>9월 21일</td>\n",
       "      <td>화요일</td>\n",
       "      <td>Chuseok</td>\n",
       "      <td>Public Holiday</td>\n",
       "    </tr>\n",
       "    <tr>\n",
       "      <th>19</th>\n",
       "      <td>9월 22일</td>\n",
       "      <td>수요일</td>\n",
       "      <td>Chuseok Holiday</td>\n",
       "      <td>Public Holiday</td>\n",
       "    </tr>\n",
       "    <tr>\n",
       "      <th>20</th>\n",
       "      <td>9월 23일</td>\n",
       "      <td>목요일</td>\n",
       "      <td>September Equinox</td>\n",
       "      <td>Season</td>\n",
       "    </tr>\n",
       "    <tr>\n",
       "      <th>21</th>\n",
       "      <td>10월 1일</td>\n",
       "      <td>금요일</td>\n",
       "      <td>Armed Forces Day</td>\n",
       "      <td>Observance</td>\n",
       "    </tr>\n",
       "    <tr>\n",
       "      <th>22</th>\n",
       "      <td>10월 3일</td>\n",
       "      <td>일요일</td>\n",
       "      <td>National Foundation Day</td>\n",
       "      <td>National holiday</td>\n",
       "    </tr>\n",
       "    <tr>\n",
       "      <th>23</th>\n",
       "      <td>10월 9일</td>\n",
       "      <td>토요일</td>\n",
       "      <td>Hangeul Proclamation Day</td>\n",
       "      <td>National holiday</td>\n",
       "    </tr>\n",
       "    <tr>\n",
       "      <th>24</th>\n",
       "      <td>10월 31일</td>\n",
       "      <td>일요일</td>\n",
       "      <td>Halloween</td>\n",
       "      <td>Observance</td>\n",
       "    </tr>\n",
       "    <tr>\n",
       "      <th>25</th>\n",
       "      <td>12월 22일</td>\n",
       "      <td>수요일</td>\n",
       "      <td>December Solstice</td>\n",
       "      <td>Season</td>\n",
       "    </tr>\n",
       "    <tr>\n",
       "      <th>26</th>\n",
       "      <td>12월 24일</td>\n",
       "      <td>금요일</td>\n",
       "      <td>Christmas Eve</td>\n",
       "      <td>Observance</td>\n",
       "    </tr>\n",
       "    <tr>\n",
       "      <th>27</th>\n",
       "      <td>12월 25일</td>\n",
       "      <td>토요일</td>\n",
       "      <td>Christmas Day</td>\n",
       "      <td>Public Holiday</td>\n",
       "    </tr>\n",
       "    <tr>\n",
       "      <th>28</th>\n",
       "      <td>12월 31일</td>\n",
       "      <td>금요일</td>\n",
       "      <td>New Year's Eve</td>\n",
       "      <td>Observance</td>\n",
       "    </tr>\n",
       "  </tbody>\n",
       "</table>\n",
       "</div>"
      ],
      "text/plain": [
       "       date dayoftheweek                       Name              Type\n",
       "0     1월 1일          금요일             New Year's Day    Public Holiday\n",
       "1    2월 11일          목요일            Seollal Holiday    Public Holiday\n",
       "2    2월 12일          금요일                    Seollal    Public Holiday\n",
       "3    2월 13일          토요일            Seollal Holiday    Public Holiday\n",
       "4    2월 14일          일요일            Valentine's Day        Observance\n",
       "5     3월 1일          월요일  Independence Movement Day  National holiday\n",
       "6    3월 20일          토요일              March Equinox            Season\n",
       "7     4월 5일          월요일                  Arbor Day        Observance\n",
       "8     5월 1일          토요일                  Labor Day      Bank Holiday\n",
       "9     5월 5일          수요일             Children's Day    Public Holiday\n",
       "10    5월 8일          토요일               Parents' Day        Observance\n",
       "11   5월 15일          토요일              Teacher's Day        Observance\n",
       "12   5월 19일          수요일          Buddha's Birthday    Public Holiday\n",
       "13    6월 6일          일요일               Memorial Day    Public Holiday\n",
       "14   6월 21일          월요일              June Solstice            Season\n",
       "15   7월 17일          토요일           Constitution Day        Observance\n",
       "16   8월 15일          일요일             Liberation Day  National holiday\n",
       "17   9월 20일          월요일            Chuseok Holiday    Public Holiday\n",
       "18   9월 21일          화요일                    Chuseok    Public Holiday\n",
       "19   9월 22일          수요일            Chuseok Holiday    Public Holiday\n",
       "20   9월 23일          목요일          September Equinox            Season\n",
       "21   10월 1일          금요일           Armed Forces Day        Observance\n",
       "22   10월 3일          일요일    National Foundation Day  National holiday\n",
       "23   10월 9일          토요일   Hangeul Proclamation Day  National holiday\n",
       "24  10월 31일          일요일                  Halloween        Observance\n",
       "25  12월 22일          수요일          December Solstice            Season\n",
       "26  12월 24일          금요일              Christmas Eve        Observance\n",
       "27  12월 25일          토요일              Christmas Day    Public Holiday\n",
       "28  12월 31일          금요일             New Year's Eve        Observance"
      ]
     },
     "execution_count": 1110,
     "metadata": {},
     "output_type": "execute_result"
    }
   ],
   "source": [
    "pd.DataFrame(rowList,columns=columnNameList)"
   ]
  }
 ],
 "metadata": {
  "kernelspec": {
   "display_name": "Python 3",
   "language": "python",
   "name": "python3"
  },
  "language_info": {
   "codemirror_mode": {
    "name": "ipython",
    "version": 3
   },
   "file_extension": ".py",
   "mimetype": "text/x-python",
   "name": "python",
   "nbconvert_exporter": "python",
   "pygments_lexer": "ipython3",
   "version": "3.8.3"
  }
 },
 "nbformat": 4,
 "nbformat_minor": 4
}
