{
 "cells": [
  {
   "cell_type": "code",
   "execution_count": 2,
   "metadata": {},
   "outputs": [],
   "source": [
    "import pandas as pd"
   ]
  },
  {
   "cell_type": "code",
   "execution_count": 16,
   "metadata": {},
   "outputs": [
    {
     "data": {
      "text/plain": [
       "'C:\\\\Users\\\\SMART-14\\\\practice\\\\stddev\\\\Session02 - 파이썬 기초 다지기'"
      ]
     },
     "execution_count": 16,
     "metadata": {},
     "output_type": "execute_result"
    }
   ],
   "source": [
    "pwd"
   ]
  },
  {
   "cell_type": "code",
   "execution_count": 64,
   "metadata": {},
   "outputs": [],
   "source": [
    "customerData = pd.read_csv(\"../dataset/kopo_customerdata.csv\")\n",
    "customerTotalList = customerData[\"TOTAL_AMOUNT\"].tolist()"
   ]
  },
  {
   "cell_type": "code",
   "execution_count": 75,
   "metadata": {},
   "outputs": [
    {
     "name": "stdout",
     "output_type": "stream",
     "text": [
      "35248.91490376756\n"
     ]
    }
   ],
   "source": [
    "#데이터리스트를 오름차순으로 정렬한다. \n",
    "customerTotalList.sort()\n",
    "\n",
    "# 최소값 , 최대값을 구한다.\n",
    "maxData = max(customerTotalList)\n",
    "minData = min(customerTotalList)\n",
    "\n",
    "#데이터리스트의 최대값과 최소값의 갯수를 구한다.\n",
    "cntmaxData = customerTotalList.count(maxData)\n",
    "cntminData = customerTotalList.count(minData)\n",
    "\n",
    "#전체데이터 목록 중 최대값, 최소값을 제외한 범위를 구한다.\n",
    "totalData = customerTotalList[cntminData:-cntmaxData]\n",
    "\n",
    "#sum과 length를 나눠 최종 평균값을 구한다.\n",
    "average= sum(totalData)/len(totalData)\n",
    "print(average)"
   ]
  },
  {
   "cell_type": "code",
   "execution_count": 76,
   "metadata": {},
   "outputs": [
    {
     "name": "stdout",
     "output_type": "stream",
     "text": [
      "35248.91490376756\n"
     ]
    }
   ],
   "source": [
    "maxData = max(customerTotalList) #최대값\n",
    "minData = min(customerTotalList) #최소값\n",
    "\n",
    "cntmaxData = customerTotalList.count(maxData) #최대값 개수\n",
    "cntminData = customerTotalList.count(minData) #최소값 개수\n",
    "\n",
    "lenData = len(customerTotalList)- (cntmaxData + cntminData)\n",
    "sumData = sum(customerTotalList) - (maxData*cntmaxData) - (minData*cntminData)\n",
    "\n",
    "average = sumData/lenData\n",
    "\n",
    "print(average)"
   ]
  },
  {
   "cell_type": "code",
   "execution_count": null,
   "metadata": {},
   "outputs": [],
   "source": [
    "약간의 수정"
   ]
  }
 ],
 "metadata": {
  "kernelspec": {
   "display_name": "Python 3",
   "language": "python",
   "name": "python3"
  },
  "language_info": {
   "codemirror_mode": {
    "name": "ipython",
    "version": 3
   },
   "file_extension": ".py",
   "mimetype": "text/x-python",
   "name": "python",
   "nbconvert_exporter": "python",
   "pygments_lexer": "ipython3",
   "version": "3.8.3"
  }
 },
 "nbformat": 4,
 "nbformat_minor": 4
}
